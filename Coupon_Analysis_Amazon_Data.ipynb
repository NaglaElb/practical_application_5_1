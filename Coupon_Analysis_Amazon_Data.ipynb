{
  "cells": [
    {
      "cell_type": "markdown",
      "metadata": {
        "id": "CcUT6Fon_qRE"
      },
      "source": [
        "### Required Assignment 5.1: Will the Customer Accept the Coupon?\n",
        "\n",
        "**Context**\n",
        "\n",
        "Imagine driving through town and a coupon is delivered to your cell phone for a restaurant near where you are driving. Would you accept that coupon and take a short detour to the restaurant? Would you accept the coupon but use it on a subsequent trip? Would you ignore the coupon entirely? What if the coupon was for a bar instead of a restaurant? What about a coffee house? Would you accept a bar coupon with a minor passenger in the car? What about if it was just you and your partner in the car? Would weather impact the rate of acceptance? What about the time of day?\n",
        "\n",
        "Obviously, proximity to the business is a factor on whether the coupon is delivered to the driver or not, but what are the factors that determine whether a driver accepts the coupon once it is delivered to them? How would you determine whether a driver is likely to accept a coupon?\n",
        "\n",
        "**Overview**\n",
        "\n",
        "The goal of this project is to use what you know about visualizations and probability distributions to distinguish between customers who accepted a driving coupon versus those that did not.\n",
        "\n",
        "**Data**\n",
        "\n",
        "This data comes to us from the UCI Machine Learning repository and was collected via a survey on Amazon Mechanical Turk. The survey describes different driving scenarios including the destination, current time, weather, passenger, etc., and then ask the person whether he will accept the coupon if he is the driver. Answers that the user will drive there ‘right away’ or ‘later before the coupon expires’ are labeled as ‘Y = 1’ and answers ‘no, I do not want the coupon’ are labeled as ‘Y = 0’.  There are five different types of coupons -- less expensive restaurants (under \\$20), coffee houses, carry out & take away, bar, and more expensive restaurants (\\$20 - $50)."
      ]
    },
    {
      "cell_type": "markdown",
      "metadata": {
        "id": "1wORvMBJ_qRF"
      },
      "source": [
        "**Deliverables**\n",
        "\n",
        "Your final product should be a brief report that highlights the differences between customers who did and did not accept the coupons.  To explore the data you will utilize your knowledge of plotting, statistical summaries, and visualization using Python. You will publish your findings in a public facing github repository as your first portfolio piece.\n",
        "\n",
        "\n",
        "\n"
      ]
    },
    {
      "cell_type": "markdown",
      "metadata": {
        "id": "pG6_Ym6q_qRG"
      },
      "source": [
        "### Data Description\n",
        "Keep in mind that these values mentioned below are average values.\n",
        "\n",
        "The attributes of this data set include:\n",
        "1. User attributes\n",
        "    -  Gender: male, female\n",
        "    -  Age: below 21, 21 to 25, 26 to 30, etc.\n",
        "    -  Marital Status: single, married partner, unmarried partner, or widowed\n",
        "    -  Number of children: 0, 1, or more than 1\n",
        "    -  Education: high school, bachelors degree, associates degree, or graduate degree\n",
        "    -  Occupation: architecture & engineering, business & financial, etc.\n",
        "    -  Annual income: less than \\\\$12500, \\\\$12500 - \\\\$24999, \\\\$25000 - \\\\$37499, etc.\n",
        "    -  Number of times that he/she goes to a bar: 0, less than 1, 1 to 3, 4 to 8 or greater than 8\n",
        "    -  Number of times that he/she buys takeaway food: 0, less than 1, 1 to 3, 4 to 8 or greater\n",
        "    than 8\n",
        "    -  Number of times that he/she goes to a coffee house: 0, less than 1, 1 to 3, 4 to 8 or\n",
        "    greater than 8\n",
        "    -  Number of times that he/she eats at a restaurant with average expense less than \\\\$20 per\n",
        "    person: 0, less than 1, 1 to 3, 4 to 8 or greater than 8\n",
        "    -  Number of times that he/she goes to a bar: 0, less than 1, 1 to 3, 4 to 8 or greater than 8\n",
        "    \n",
        "\n",
        "2. Contextual attributes\n",
        "    - Driving destination: home, work, or no urgent destination\n",
        "    - Location of user, coupon and destination: we provide a map to show the geographical\n",
        "    location of the user, destination, and the venue, and we mark the distance between each\n",
        "    two places with time of driving. The user can see whether the venue is in the same\n",
        "    direction as the destination.\n",
        "    - Weather: sunny, rainy, or snowy\n",
        "    - Temperature: 30F, 55F, or 80F\n",
        "    - Time: 10AM, 2PM, or 6PM\n",
        "    - Passenger: alone, partner, kid(s), or friend(s)\n",
        "\n",
        "\n",
        "3. Coupon attributes\n",
        "    - time before it expires: 2 hours or one day"
      ]
    },
    {
      "cell_type": "code",
      "execution_count": 202,
      "metadata": {
        "id": "dzNoP3o__qRG"
      },
      "outputs": [],
      "source": [
        "import matplotlib.pyplot as plt\n",
        "import seaborn as sns\n",
        "import pandas as pd\n",
        "import numpy as np\n",
        "import plotly.express as px"
      ]
    },
    {
      "cell_type": "markdown",
      "metadata": {
        "id": "Ct8pI1uE_qRG"
      },
      "source": [
        "### Problems\n",
        "\n",
        "Use the prompts below to get started with your data analysis.  \n",
        "\n",
        "1. Read in the `coupons.csv` file.\n",
        "\n",
        "\n"
      ]
    },
    {
      "cell_type": "code",
      "execution_count": 203,
      "metadata": {
        "id": "X0vbffYg_qRH"
      },
      "outputs": [],
      "source": [
        "data = pd.read_csv('data/coupons.csv')"
      ]
    },
    {
      "cell_type": "code",
      "execution_count": 204,
      "metadata": {
        "id": "TXofQ_DF_qRH",
        "outputId": "5faebc0f-5d09-4f42-8991-208cf8b26998",
        "colab": {
          "base_uri": "https://localhost:8080/",
          "height": 342
        }
      },
      "outputs": [
        {
          "output_type": "execute_result",
          "data": {
            "text/plain": [
              "       destination  passanger weather  temperature  time  \\\n",
              "0  No Urgent Place      Alone   Sunny           55   2PM   \n",
              "1  No Urgent Place  Friend(s)   Sunny           80  10AM   \n",
              "2  No Urgent Place  Friend(s)   Sunny           80  10AM   \n",
              "3  No Urgent Place  Friend(s)   Sunny           80   2PM   \n",
              "4  No Urgent Place  Friend(s)   Sunny           80   2PM   \n",
              "\n",
              "                  coupon expiration  gender age      maritalStatus  ...  \\\n",
              "0        Restaurant(<20)         1d  Female  21  Unmarried partner  ...   \n",
              "1           Coffee House         2h  Female  21  Unmarried partner  ...   \n",
              "2  Carry out & Take away         2h  Female  21  Unmarried partner  ...   \n",
              "3           Coffee House         2h  Female  21  Unmarried partner  ...   \n",
              "4           Coffee House         1d  Female  21  Unmarried partner  ...   \n",
              "\n",
              "   CoffeeHouse CarryAway RestaurantLessThan20 Restaurant20To50  \\\n",
              "0        never       NaN                  4~8              1~3   \n",
              "1        never       NaN                  4~8              1~3   \n",
              "2        never       NaN                  4~8              1~3   \n",
              "3        never       NaN                  4~8              1~3   \n",
              "4        never       NaN                  4~8              1~3   \n",
              "\n",
              "  toCoupon_GEQ5min toCoupon_GEQ15min toCoupon_GEQ25min direction_same  \\\n",
              "0                1                 0                 0              0   \n",
              "1                1                 0                 0              0   \n",
              "2                1                 1                 0              0   \n",
              "3                1                 1                 0              0   \n",
              "4                1                 1                 0              0   \n",
              "\n",
              "  direction_opp  Y  \n",
              "0             1  1  \n",
              "1             1  0  \n",
              "2             1  1  \n",
              "3             1  0  \n",
              "4             1  0  \n",
              "\n",
              "[5 rows x 26 columns]"
            ],
            "text/html": [
              "\n",
              "  <div id=\"df-59eb1cce-ab12-493b-8fd2-aa6a329b5006\" class=\"colab-df-container\">\n",
              "    <div>\n",
              "<style scoped>\n",
              "    .dataframe tbody tr th:only-of-type {\n",
              "        vertical-align: middle;\n",
              "    }\n",
              "\n",
              "    .dataframe tbody tr th {\n",
              "        vertical-align: top;\n",
              "    }\n",
              "\n",
              "    .dataframe thead th {\n",
              "        text-align: right;\n",
              "    }\n",
              "</style>\n",
              "<table border=\"1\" class=\"dataframe\">\n",
              "  <thead>\n",
              "    <tr style=\"text-align: right;\">\n",
              "      <th></th>\n",
              "      <th>destination</th>\n",
              "      <th>passanger</th>\n",
              "      <th>weather</th>\n",
              "      <th>temperature</th>\n",
              "      <th>time</th>\n",
              "      <th>coupon</th>\n",
              "      <th>expiration</th>\n",
              "      <th>gender</th>\n",
              "      <th>age</th>\n",
              "      <th>maritalStatus</th>\n",
              "      <th>...</th>\n",
              "      <th>CoffeeHouse</th>\n",
              "      <th>CarryAway</th>\n",
              "      <th>RestaurantLessThan20</th>\n",
              "      <th>Restaurant20To50</th>\n",
              "      <th>toCoupon_GEQ5min</th>\n",
              "      <th>toCoupon_GEQ15min</th>\n",
              "      <th>toCoupon_GEQ25min</th>\n",
              "      <th>direction_same</th>\n",
              "      <th>direction_opp</th>\n",
              "      <th>Y</th>\n",
              "    </tr>\n",
              "  </thead>\n",
              "  <tbody>\n",
              "    <tr>\n",
              "      <th>0</th>\n",
              "      <td>No Urgent Place</td>\n",
              "      <td>Alone</td>\n",
              "      <td>Sunny</td>\n",
              "      <td>55</td>\n",
              "      <td>2PM</td>\n",
              "      <td>Restaurant(&lt;20)</td>\n",
              "      <td>1d</td>\n",
              "      <td>Female</td>\n",
              "      <td>21</td>\n",
              "      <td>Unmarried partner</td>\n",
              "      <td>...</td>\n",
              "      <td>never</td>\n",
              "      <td>NaN</td>\n",
              "      <td>4~8</td>\n",
              "      <td>1~3</td>\n",
              "      <td>1</td>\n",
              "      <td>0</td>\n",
              "      <td>0</td>\n",
              "      <td>0</td>\n",
              "      <td>1</td>\n",
              "      <td>1</td>\n",
              "    </tr>\n",
              "    <tr>\n",
              "      <th>1</th>\n",
              "      <td>No Urgent Place</td>\n",
              "      <td>Friend(s)</td>\n",
              "      <td>Sunny</td>\n",
              "      <td>80</td>\n",
              "      <td>10AM</td>\n",
              "      <td>Coffee House</td>\n",
              "      <td>2h</td>\n",
              "      <td>Female</td>\n",
              "      <td>21</td>\n",
              "      <td>Unmarried partner</td>\n",
              "      <td>...</td>\n",
              "      <td>never</td>\n",
              "      <td>NaN</td>\n",
              "      <td>4~8</td>\n",
              "      <td>1~3</td>\n",
              "      <td>1</td>\n",
              "      <td>0</td>\n",
              "      <td>0</td>\n",
              "      <td>0</td>\n",
              "      <td>1</td>\n",
              "      <td>0</td>\n",
              "    </tr>\n",
              "    <tr>\n",
              "      <th>2</th>\n",
              "      <td>No Urgent Place</td>\n",
              "      <td>Friend(s)</td>\n",
              "      <td>Sunny</td>\n",
              "      <td>80</td>\n",
              "      <td>10AM</td>\n",
              "      <td>Carry out &amp; Take away</td>\n",
              "      <td>2h</td>\n",
              "      <td>Female</td>\n",
              "      <td>21</td>\n",
              "      <td>Unmarried partner</td>\n",
              "      <td>...</td>\n",
              "      <td>never</td>\n",
              "      <td>NaN</td>\n",
              "      <td>4~8</td>\n",
              "      <td>1~3</td>\n",
              "      <td>1</td>\n",
              "      <td>1</td>\n",
              "      <td>0</td>\n",
              "      <td>0</td>\n",
              "      <td>1</td>\n",
              "      <td>1</td>\n",
              "    </tr>\n",
              "    <tr>\n",
              "      <th>3</th>\n",
              "      <td>No Urgent Place</td>\n",
              "      <td>Friend(s)</td>\n",
              "      <td>Sunny</td>\n",
              "      <td>80</td>\n",
              "      <td>2PM</td>\n",
              "      <td>Coffee House</td>\n",
              "      <td>2h</td>\n",
              "      <td>Female</td>\n",
              "      <td>21</td>\n",
              "      <td>Unmarried partner</td>\n",
              "      <td>...</td>\n",
              "      <td>never</td>\n",
              "      <td>NaN</td>\n",
              "      <td>4~8</td>\n",
              "      <td>1~3</td>\n",
              "      <td>1</td>\n",
              "      <td>1</td>\n",
              "      <td>0</td>\n",
              "      <td>0</td>\n",
              "      <td>1</td>\n",
              "      <td>0</td>\n",
              "    </tr>\n",
              "    <tr>\n",
              "      <th>4</th>\n",
              "      <td>No Urgent Place</td>\n",
              "      <td>Friend(s)</td>\n",
              "      <td>Sunny</td>\n",
              "      <td>80</td>\n",
              "      <td>2PM</td>\n",
              "      <td>Coffee House</td>\n",
              "      <td>1d</td>\n",
              "      <td>Female</td>\n",
              "      <td>21</td>\n",
              "      <td>Unmarried partner</td>\n",
              "      <td>...</td>\n",
              "      <td>never</td>\n",
              "      <td>NaN</td>\n",
              "      <td>4~8</td>\n",
              "      <td>1~3</td>\n",
              "      <td>1</td>\n",
              "      <td>1</td>\n",
              "      <td>0</td>\n",
              "      <td>0</td>\n",
              "      <td>1</td>\n",
              "      <td>0</td>\n",
              "    </tr>\n",
              "  </tbody>\n",
              "</table>\n",
              "<p>5 rows × 26 columns</p>\n",
              "</div>\n",
              "    <div class=\"colab-df-buttons\">\n",
              "\n",
              "  <div class=\"colab-df-container\">\n",
              "    <button class=\"colab-df-convert\" onclick=\"convertToInteractive('df-59eb1cce-ab12-493b-8fd2-aa6a329b5006')\"\n",
              "            title=\"Convert this dataframe to an interactive table.\"\n",
              "            style=\"display:none;\">\n",
              "\n",
              "  <svg xmlns=\"http://www.w3.org/2000/svg\" height=\"24px\" viewBox=\"0 -960 960 960\">\n",
              "    <path d=\"M120-120v-720h720v720H120Zm60-500h600v-160H180v160Zm220 220h160v-160H400v160Zm0 220h160v-160H400v160ZM180-400h160v-160H180v160Zm440 0h160v-160H620v160ZM180-180h160v-160H180v160Zm440 0h160v-160H620v160Z\"/>\n",
              "  </svg>\n",
              "    </button>\n",
              "\n",
              "  <style>\n",
              "    .colab-df-container {\n",
              "      display:flex;\n",
              "      gap: 12px;\n",
              "    }\n",
              "\n",
              "    .colab-df-convert {\n",
              "      background-color: #E8F0FE;\n",
              "      border: none;\n",
              "      border-radius: 50%;\n",
              "      cursor: pointer;\n",
              "      display: none;\n",
              "      fill: #1967D2;\n",
              "      height: 32px;\n",
              "      padding: 0 0 0 0;\n",
              "      width: 32px;\n",
              "    }\n",
              "\n",
              "    .colab-df-convert:hover {\n",
              "      background-color: #E2EBFA;\n",
              "      box-shadow: 0px 1px 2px rgba(60, 64, 67, 0.3), 0px 1px 3px 1px rgba(60, 64, 67, 0.15);\n",
              "      fill: #174EA6;\n",
              "    }\n",
              "\n",
              "    .colab-df-buttons div {\n",
              "      margin-bottom: 4px;\n",
              "    }\n",
              "\n",
              "    [theme=dark] .colab-df-convert {\n",
              "      background-color: #3B4455;\n",
              "      fill: #D2E3FC;\n",
              "    }\n",
              "\n",
              "    [theme=dark] .colab-df-convert:hover {\n",
              "      background-color: #434B5C;\n",
              "      box-shadow: 0px 1px 3px 1px rgba(0, 0, 0, 0.15);\n",
              "      filter: drop-shadow(0px 1px 2px rgba(0, 0, 0, 0.3));\n",
              "      fill: #FFFFFF;\n",
              "    }\n",
              "  </style>\n",
              "\n",
              "    <script>\n",
              "      const buttonEl =\n",
              "        document.querySelector('#df-59eb1cce-ab12-493b-8fd2-aa6a329b5006 button.colab-df-convert');\n",
              "      buttonEl.style.display =\n",
              "        google.colab.kernel.accessAllowed ? 'block' : 'none';\n",
              "\n",
              "      async function convertToInteractive(key) {\n",
              "        const element = document.querySelector('#df-59eb1cce-ab12-493b-8fd2-aa6a329b5006');\n",
              "        const dataTable =\n",
              "          await google.colab.kernel.invokeFunction('convertToInteractive',\n",
              "                                                    [key], {});\n",
              "        if (!dataTable) return;\n",
              "\n",
              "        const docLinkHtml = 'Like what you see? Visit the ' +\n",
              "          '<a target=\"_blank\" href=https://colab.research.google.com/notebooks/data_table.ipynb>data table notebook</a>'\n",
              "          + ' to learn more about interactive tables.';\n",
              "        element.innerHTML = '';\n",
              "        dataTable['output_type'] = 'display_data';\n",
              "        await google.colab.output.renderOutput(dataTable, element);\n",
              "        const docLink = document.createElement('div');\n",
              "        docLink.innerHTML = docLinkHtml;\n",
              "        element.appendChild(docLink);\n",
              "      }\n",
              "    </script>\n",
              "  </div>\n",
              "\n",
              "\n",
              "<div id=\"df-8f87f1e1-2164-4207-b345-11a4c163bc0d\">\n",
              "  <button class=\"colab-df-quickchart\" onclick=\"quickchart('df-8f87f1e1-2164-4207-b345-11a4c163bc0d')\"\n",
              "            title=\"Suggest charts\"\n",
              "            style=\"display:none;\">\n",
              "\n",
              "<svg xmlns=\"http://www.w3.org/2000/svg\" height=\"24px\"viewBox=\"0 0 24 24\"\n",
              "     width=\"24px\">\n",
              "    <g>\n",
              "        <path d=\"M19 3H5c-1.1 0-2 .9-2 2v14c0 1.1.9 2 2 2h14c1.1 0 2-.9 2-2V5c0-1.1-.9-2-2-2zM9 17H7v-7h2v7zm4 0h-2V7h2v10zm4 0h-2v-4h2v4z\"/>\n",
              "    </g>\n",
              "</svg>\n",
              "  </button>\n",
              "\n",
              "<style>\n",
              "  .colab-df-quickchart {\n",
              "      --bg-color: #E8F0FE;\n",
              "      --fill-color: #1967D2;\n",
              "      --hover-bg-color: #E2EBFA;\n",
              "      --hover-fill-color: #174EA6;\n",
              "      --disabled-fill-color: #AAA;\n",
              "      --disabled-bg-color: #DDD;\n",
              "  }\n",
              "\n",
              "  [theme=dark] .colab-df-quickchart {\n",
              "      --bg-color: #3B4455;\n",
              "      --fill-color: #D2E3FC;\n",
              "      --hover-bg-color: #434B5C;\n",
              "      --hover-fill-color: #FFFFFF;\n",
              "      --disabled-bg-color: #3B4455;\n",
              "      --disabled-fill-color: #666;\n",
              "  }\n",
              "\n",
              "  .colab-df-quickchart {\n",
              "    background-color: var(--bg-color);\n",
              "    border: none;\n",
              "    border-radius: 50%;\n",
              "    cursor: pointer;\n",
              "    display: none;\n",
              "    fill: var(--fill-color);\n",
              "    height: 32px;\n",
              "    padding: 0;\n",
              "    width: 32px;\n",
              "  }\n",
              "\n",
              "  .colab-df-quickchart:hover {\n",
              "    background-color: var(--hover-bg-color);\n",
              "    box-shadow: 0 1px 2px rgba(60, 64, 67, 0.3), 0 1px 3px 1px rgba(60, 64, 67, 0.15);\n",
              "    fill: var(--button-hover-fill-color);\n",
              "  }\n",
              "\n",
              "  .colab-df-quickchart-complete:disabled,\n",
              "  .colab-df-quickchart-complete:disabled:hover {\n",
              "    background-color: var(--disabled-bg-color);\n",
              "    fill: var(--disabled-fill-color);\n",
              "    box-shadow: none;\n",
              "  }\n",
              "\n",
              "  .colab-df-spinner {\n",
              "    border: 2px solid var(--fill-color);\n",
              "    border-color: transparent;\n",
              "    border-bottom-color: var(--fill-color);\n",
              "    animation:\n",
              "      spin 1s steps(1) infinite;\n",
              "  }\n",
              "\n",
              "  @keyframes spin {\n",
              "    0% {\n",
              "      border-color: transparent;\n",
              "      border-bottom-color: var(--fill-color);\n",
              "      border-left-color: var(--fill-color);\n",
              "    }\n",
              "    20% {\n",
              "      border-color: transparent;\n",
              "      border-left-color: var(--fill-color);\n",
              "      border-top-color: var(--fill-color);\n",
              "    }\n",
              "    30% {\n",
              "      border-color: transparent;\n",
              "      border-left-color: var(--fill-color);\n",
              "      border-top-color: var(--fill-color);\n",
              "      border-right-color: var(--fill-color);\n",
              "    }\n",
              "    40% {\n",
              "      border-color: transparent;\n",
              "      border-right-color: var(--fill-color);\n",
              "      border-top-color: var(--fill-color);\n",
              "    }\n",
              "    60% {\n",
              "      border-color: transparent;\n",
              "      border-right-color: var(--fill-color);\n",
              "    }\n",
              "    80% {\n",
              "      border-color: transparent;\n",
              "      border-right-color: var(--fill-color);\n",
              "      border-bottom-color: var(--fill-color);\n",
              "    }\n",
              "    90% {\n",
              "      border-color: transparent;\n",
              "      border-bottom-color: var(--fill-color);\n",
              "    }\n",
              "  }\n",
              "</style>\n",
              "\n",
              "  <script>\n",
              "    async function quickchart(key) {\n",
              "      const quickchartButtonEl =\n",
              "        document.querySelector('#' + key + ' button');\n",
              "      quickchartButtonEl.disabled = true;  // To prevent multiple clicks.\n",
              "      quickchartButtonEl.classList.add('colab-df-spinner');\n",
              "      try {\n",
              "        const charts = await google.colab.kernel.invokeFunction(\n",
              "            'suggestCharts', [key], {});\n",
              "      } catch (error) {\n",
              "        console.error('Error during call to suggestCharts:', error);\n",
              "      }\n",
              "      quickchartButtonEl.classList.remove('colab-df-spinner');\n",
              "      quickchartButtonEl.classList.add('colab-df-quickchart-complete');\n",
              "    }\n",
              "    (() => {\n",
              "      let quickchartButtonEl =\n",
              "        document.querySelector('#df-8f87f1e1-2164-4207-b345-11a4c163bc0d button');\n",
              "      quickchartButtonEl.style.display =\n",
              "        google.colab.kernel.accessAllowed ? 'block' : 'none';\n",
              "    })();\n",
              "  </script>\n",
              "</div>\n",
              "\n",
              "    </div>\n",
              "  </div>\n"
            ],
            "application/vnd.google.colaboratory.intrinsic+json": {
              "type": "dataframe",
              "variable_name": "data"
            }
          },
          "metadata": {},
          "execution_count": 204
        }
      ],
      "source": [
        "data.head()"
      ]
    },
    {
      "cell_type": "markdown",
      "metadata": {
        "id": "GcDs78ZH_qRH"
      },
      "source": [
        "2. Investigate the dataset for missing or problematic data."
      ]
    },
    {
      "cell_type": "code",
      "execution_count": 205,
      "metadata": {
        "id": "6CwL6oWj_qRH",
        "colab": {
          "base_uri": "https://localhost:8080/",
          "height": 300
        },
        "outputId": "44bca041-b165-4250-8c82-e3e3021bd380"
      },
      "outputs": [
        {
          "output_type": "execute_result",
          "data": {
            "text/plain": [
              "        temperature  has_children  toCoupon_GEQ5min  toCoupon_GEQ15min  \\\n",
              "count  12684.000000  12684.000000           12684.0       12684.000000   \n",
              "mean      63.301798      0.414144               1.0           0.561495   \n",
              "std       19.154486      0.492593               0.0           0.496224   \n",
              "min       30.000000      0.000000               1.0           0.000000   \n",
              "25%       55.000000      0.000000               1.0           0.000000   \n",
              "50%       80.000000      0.000000               1.0           1.000000   \n",
              "75%       80.000000      1.000000               1.0           1.000000   \n",
              "max       80.000000      1.000000               1.0           1.000000   \n",
              "\n",
              "       toCoupon_GEQ25min  direction_same  direction_opp             Y  \n",
              "count       12684.000000    12684.000000   12684.000000  12684.000000  \n",
              "mean            0.119126        0.214759       0.785241      0.568433  \n",
              "std             0.323950        0.410671       0.410671      0.495314  \n",
              "min             0.000000        0.000000       0.000000      0.000000  \n",
              "25%             0.000000        0.000000       1.000000      0.000000  \n",
              "50%             0.000000        0.000000       1.000000      1.000000  \n",
              "75%             0.000000        0.000000       1.000000      1.000000  \n",
              "max             1.000000        1.000000       1.000000      1.000000  "
            ],
            "text/html": [
              "\n",
              "  <div id=\"df-9e172430-4733-483d-aaf2-ee2151067ca7\" class=\"colab-df-container\">\n",
              "    <div>\n",
              "<style scoped>\n",
              "    .dataframe tbody tr th:only-of-type {\n",
              "        vertical-align: middle;\n",
              "    }\n",
              "\n",
              "    .dataframe tbody tr th {\n",
              "        vertical-align: top;\n",
              "    }\n",
              "\n",
              "    .dataframe thead th {\n",
              "        text-align: right;\n",
              "    }\n",
              "</style>\n",
              "<table border=\"1\" class=\"dataframe\">\n",
              "  <thead>\n",
              "    <tr style=\"text-align: right;\">\n",
              "      <th></th>\n",
              "      <th>temperature</th>\n",
              "      <th>has_children</th>\n",
              "      <th>toCoupon_GEQ5min</th>\n",
              "      <th>toCoupon_GEQ15min</th>\n",
              "      <th>toCoupon_GEQ25min</th>\n",
              "      <th>direction_same</th>\n",
              "      <th>direction_opp</th>\n",
              "      <th>Y</th>\n",
              "    </tr>\n",
              "  </thead>\n",
              "  <tbody>\n",
              "    <tr>\n",
              "      <th>count</th>\n",
              "      <td>12684.000000</td>\n",
              "      <td>12684.000000</td>\n",
              "      <td>12684.0</td>\n",
              "      <td>12684.000000</td>\n",
              "      <td>12684.000000</td>\n",
              "      <td>12684.000000</td>\n",
              "      <td>12684.000000</td>\n",
              "      <td>12684.000000</td>\n",
              "    </tr>\n",
              "    <tr>\n",
              "      <th>mean</th>\n",
              "      <td>63.301798</td>\n",
              "      <td>0.414144</td>\n",
              "      <td>1.0</td>\n",
              "      <td>0.561495</td>\n",
              "      <td>0.119126</td>\n",
              "      <td>0.214759</td>\n",
              "      <td>0.785241</td>\n",
              "      <td>0.568433</td>\n",
              "    </tr>\n",
              "    <tr>\n",
              "      <th>std</th>\n",
              "      <td>19.154486</td>\n",
              "      <td>0.492593</td>\n",
              "      <td>0.0</td>\n",
              "      <td>0.496224</td>\n",
              "      <td>0.323950</td>\n",
              "      <td>0.410671</td>\n",
              "      <td>0.410671</td>\n",
              "      <td>0.495314</td>\n",
              "    </tr>\n",
              "    <tr>\n",
              "      <th>min</th>\n",
              "      <td>30.000000</td>\n",
              "      <td>0.000000</td>\n",
              "      <td>1.0</td>\n",
              "      <td>0.000000</td>\n",
              "      <td>0.000000</td>\n",
              "      <td>0.000000</td>\n",
              "      <td>0.000000</td>\n",
              "      <td>0.000000</td>\n",
              "    </tr>\n",
              "    <tr>\n",
              "      <th>25%</th>\n",
              "      <td>55.000000</td>\n",
              "      <td>0.000000</td>\n",
              "      <td>1.0</td>\n",
              "      <td>0.000000</td>\n",
              "      <td>0.000000</td>\n",
              "      <td>0.000000</td>\n",
              "      <td>1.000000</td>\n",
              "      <td>0.000000</td>\n",
              "    </tr>\n",
              "    <tr>\n",
              "      <th>50%</th>\n",
              "      <td>80.000000</td>\n",
              "      <td>0.000000</td>\n",
              "      <td>1.0</td>\n",
              "      <td>1.000000</td>\n",
              "      <td>0.000000</td>\n",
              "      <td>0.000000</td>\n",
              "      <td>1.000000</td>\n",
              "      <td>1.000000</td>\n",
              "    </tr>\n",
              "    <tr>\n",
              "      <th>75%</th>\n",
              "      <td>80.000000</td>\n",
              "      <td>1.000000</td>\n",
              "      <td>1.0</td>\n",
              "      <td>1.000000</td>\n",
              "      <td>0.000000</td>\n",
              "      <td>0.000000</td>\n",
              "      <td>1.000000</td>\n",
              "      <td>1.000000</td>\n",
              "    </tr>\n",
              "    <tr>\n",
              "      <th>max</th>\n",
              "      <td>80.000000</td>\n",
              "      <td>1.000000</td>\n",
              "      <td>1.0</td>\n",
              "      <td>1.000000</td>\n",
              "      <td>1.000000</td>\n",
              "      <td>1.000000</td>\n",
              "      <td>1.000000</td>\n",
              "      <td>1.000000</td>\n",
              "    </tr>\n",
              "  </tbody>\n",
              "</table>\n",
              "</div>\n",
              "    <div class=\"colab-df-buttons\">\n",
              "\n",
              "  <div class=\"colab-df-container\">\n",
              "    <button class=\"colab-df-convert\" onclick=\"convertToInteractive('df-9e172430-4733-483d-aaf2-ee2151067ca7')\"\n",
              "            title=\"Convert this dataframe to an interactive table.\"\n",
              "            style=\"display:none;\">\n",
              "\n",
              "  <svg xmlns=\"http://www.w3.org/2000/svg\" height=\"24px\" viewBox=\"0 -960 960 960\">\n",
              "    <path d=\"M120-120v-720h720v720H120Zm60-500h600v-160H180v160Zm220 220h160v-160H400v160Zm0 220h160v-160H400v160ZM180-400h160v-160H180v160Zm440 0h160v-160H620v160ZM180-180h160v-160H180v160Zm440 0h160v-160H620v160Z\"/>\n",
              "  </svg>\n",
              "    </button>\n",
              "\n",
              "  <style>\n",
              "    .colab-df-container {\n",
              "      display:flex;\n",
              "      gap: 12px;\n",
              "    }\n",
              "\n",
              "    .colab-df-convert {\n",
              "      background-color: #E8F0FE;\n",
              "      border: none;\n",
              "      border-radius: 50%;\n",
              "      cursor: pointer;\n",
              "      display: none;\n",
              "      fill: #1967D2;\n",
              "      height: 32px;\n",
              "      padding: 0 0 0 0;\n",
              "      width: 32px;\n",
              "    }\n",
              "\n",
              "    .colab-df-convert:hover {\n",
              "      background-color: #E2EBFA;\n",
              "      box-shadow: 0px 1px 2px rgba(60, 64, 67, 0.3), 0px 1px 3px 1px rgba(60, 64, 67, 0.15);\n",
              "      fill: #174EA6;\n",
              "    }\n",
              "\n",
              "    .colab-df-buttons div {\n",
              "      margin-bottom: 4px;\n",
              "    }\n",
              "\n",
              "    [theme=dark] .colab-df-convert {\n",
              "      background-color: #3B4455;\n",
              "      fill: #D2E3FC;\n",
              "    }\n",
              "\n",
              "    [theme=dark] .colab-df-convert:hover {\n",
              "      background-color: #434B5C;\n",
              "      box-shadow: 0px 1px 3px 1px rgba(0, 0, 0, 0.15);\n",
              "      filter: drop-shadow(0px 1px 2px rgba(0, 0, 0, 0.3));\n",
              "      fill: #FFFFFF;\n",
              "    }\n",
              "  </style>\n",
              "\n",
              "    <script>\n",
              "      const buttonEl =\n",
              "        document.querySelector('#df-9e172430-4733-483d-aaf2-ee2151067ca7 button.colab-df-convert');\n",
              "      buttonEl.style.display =\n",
              "        google.colab.kernel.accessAllowed ? 'block' : 'none';\n",
              "\n",
              "      async function convertToInteractive(key) {\n",
              "        const element = document.querySelector('#df-9e172430-4733-483d-aaf2-ee2151067ca7');\n",
              "        const dataTable =\n",
              "          await google.colab.kernel.invokeFunction('convertToInteractive',\n",
              "                                                    [key], {});\n",
              "        if (!dataTable) return;\n",
              "\n",
              "        const docLinkHtml = 'Like what you see? Visit the ' +\n",
              "          '<a target=\"_blank\" href=https://colab.research.google.com/notebooks/data_table.ipynb>data table notebook</a>'\n",
              "          + ' to learn more about interactive tables.';\n",
              "        element.innerHTML = '';\n",
              "        dataTable['output_type'] = 'display_data';\n",
              "        await google.colab.output.renderOutput(dataTable, element);\n",
              "        const docLink = document.createElement('div');\n",
              "        docLink.innerHTML = docLinkHtml;\n",
              "        element.appendChild(docLink);\n",
              "      }\n",
              "    </script>\n",
              "  </div>\n",
              "\n",
              "\n",
              "<div id=\"df-e31ec40a-128a-4d81-8af7-b9f3f89b3998\">\n",
              "  <button class=\"colab-df-quickchart\" onclick=\"quickchart('df-e31ec40a-128a-4d81-8af7-b9f3f89b3998')\"\n",
              "            title=\"Suggest charts\"\n",
              "            style=\"display:none;\">\n",
              "\n",
              "<svg xmlns=\"http://www.w3.org/2000/svg\" height=\"24px\"viewBox=\"0 0 24 24\"\n",
              "     width=\"24px\">\n",
              "    <g>\n",
              "        <path d=\"M19 3H5c-1.1 0-2 .9-2 2v14c0 1.1.9 2 2 2h14c1.1 0 2-.9 2-2V5c0-1.1-.9-2-2-2zM9 17H7v-7h2v7zm4 0h-2V7h2v10zm4 0h-2v-4h2v4z\"/>\n",
              "    </g>\n",
              "</svg>\n",
              "  </button>\n",
              "\n",
              "<style>\n",
              "  .colab-df-quickchart {\n",
              "      --bg-color: #E8F0FE;\n",
              "      --fill-color: #1967D2;\n",
              "      --hover-bg-color: #E2EBFA;\n",
              "      --hover-fill-color: #174EA6;\n",
              "      --disabled-fill-color: #AAA;\n",
              "      --disabled-bg-color: #DDD;\n",
              "  }\n",
              "\n",
              "  [theme=dark] .colab-df-quickchart {\n",
              "      --bg-color: #3B4455;\n",
              "      --fill-color: #D2E3FC;\n",
              "      --hover-bg-color: #434B5C;\n",
              "      --hover-fill-color: #FFFFFF;\n",
              "      --disabled-bg-color: #3B4455;\n",
              "      --disabled-fill-color: #666;\n",
              "  }\n",
              "\n",
              "  .colab-df-quickchart {\n",
              "    background-color: var(--bg-color);\n",
              "    border: none;\n",
              "    border-radius: 50%;\n",
              "    cursor: pointer;\n",
              "    display: none;\n",
              "    fill: var(--fill-color);\n",
              "    height: 32px;\n",
              "    padding: 0;\n",
              "    width: 32px;\n",
              "  }\n",
              "\n",
              "  .colab-df-quickchart:hover {\n",
              "    background-color: var(--hover-bg-color);\n",
              "    box-shadow: 0 1px 2px rgba(60, 64, 67, 0.3), 0 1px 3px 1px rgba(60, 64, 67, 0.15);\n",
              "    fill: var(--button-hover-fill-color);\n",
              "  }\n",
              "\n",
              "  .colab-df-quickchart-complete:disabled,\n",
              "  .colab-df-quickchart-complete:disabled:hover {\n",
              "    background-color: var(--disabled-bg-color);\n",
              "    fill: var(--disabled-fill-color);\n",
              "    box-shadow: none;\n",
              "  }\n",
              "\n",
              "  .colab-df-spinner {\n",
              "    border: 2px solid var(--fill-color);\n",
              "    border-color: transparent;\n",
              "    border-bottom-color: var(--fill-color);\n",
              "    animation:\n",
              "      spin 1s steps(1) infinite;\n",
              "  }\n",
              "\n",
              "  @keyframes spin {\n",
              "    0% {\n",
              "      border-color: transparent;\n",
              "      border-bottom-color: var(--fill-color);\n",
              "      border-left-color: var(--fill-color);\n",
              "    }\n",
              "    20% {\n",
              "      border-color: transparent;\n",
              "      border-left-color: var(--fill-color);\n",
              "      border-top-color: var(--fill-color);\n",
              "    }\n",
              "    30% {\n",
              "      border-color: transparent;\n",
              "      border-left-color: var(--fill-color);\n",
              "      border-top-color: var(--fill-color);\n",
              "      border-right-color: var(--fill-color);\n",
              "    }\n",
              "    40% {\n",
              "      border-color: transparent;\n",
              "      border-right-color: var(--fill-color);\n",
              "      border-top-color: var(--fill-color);\n",
              "    }\n",
              "    60% {\n",
              "      border-color: transparent;\n",
              "      border-right-color: var(--fill-color);\n",
              "    }\n",
              "    80% {\n",
              "      border-color: transparent;\n",
              "      border-right-color: var(--fill-color);\n",
              "      border-bottom-color: var(--fill-color);\n",
              "    }\n",
              "    90% {\n",
              "      border-color: transparent;\n",
              "      border-bottom-color: var(--fill-color);\n",
              "    }\n",
              "  }\n",
              "</style>\n",
              "\n",
              "  <script>\n",
              "    async function quickchart(key) {\n",
              "      const quickchartButtonEl =\n",
              "        document.querySelector('#' + key + ' button');\n",
              "      quickchartButtonEl.disabled = true;  // To prevent multiple clicks.\n",
              "      quickchartButtonEl.classList.add('colab-df-spinner');\n",
              "      try {\n",
              "        const charts = await google.colab.kernel.invokeFunction(\n",
              "            'suggestCharts', [key], {});\n",
              "      } catch (error) {\n",
              "        console.error('Error during call to suggestCharts:', error);\n",
              "      }\n",
              "      quickchartButtonEl.classList.remove('colab-df-spinner');\n",
              "      quickchartButtonEl.classList.add('colab-df-quickchart-complete');\n",
              "    }\n",
              "    (() => {\n",
              "      let quickchartButtonEl =\n",
              "        document.querySelector('#df-e31ec40a-128a-4d81-8af7-b9f3f89b3998 button');\n",
              "      quickchartButtonEl.style.display =\n",
              "        google.colab.kernel.accessAllowed ? 'block' : 'none';\n",
              "    })();\n",
              "  </script>\n",
              "</div>\n",
              "\n",
              "    </div>\n",
              "  </div>\n"
            ],
            "application/vnd.google.colaboratory.intrinsic+json": {
              "type": "dataframe",
              "summary": "{\n  \"name\": \"data\",\n  \"rows\": 8,\n  \"fields\": [\n    {\n      \"column\": \"temperature\",\n      \"properties\": {\n        \"dtype\": \"number\",\n        \"std\": 4463.9520696305435,\n        \"min\": 19.15448575684153,\n        \"max\": 12684.0,\n        \"num_unique_values\": 6,\n        \"samples\": [\n          12684.0,\n          63.301797540208135,\n          80.0\n        ],\n        \"semantic_type\": \"\",\n        \"description\": \"\"\n      }\n    },\n    {\n      \"column\": \"has_children\",\n      \"properties\": {\n        \"dtype\": \"number\",\n        \"std\": 4484.3244131352285,\n        \"min\": 0.0,\n        \"max\": 12684.0,\n        \"num_unique_values\": 5,\n        \"samples\": [\n          0.4141438032166509,\n          1.0,\n          0.4925929797554677\n        ],\n        \"semantic_type\": \"\",\n        \"description\": \"\"\n      }\n    },\n    {\n      \"column\": \"toCoupon_GEQ5min\",\n      \"properties\": {\n        \"dtype\": \"number\",\n        \"std\": 4484.168174175196,\n        \"min\": 0.0,\n        \"max\": 12684.0,\n        \"num_unique_values\": 3,\n        \"samples\": [\n          12684.0,\n          1.0,\n          0.0\n        ],\n        \"semantic_type\": \"\",\n        \"description\": \"\"\n      }\n    },\n    {\n      \"column\": \"toCoupon_GEQ15min\",\n      \"properties\": {\n        \"dtype\": \"number\",\n        \"std\": 4484.2662798234105,\n        \"min\": 0.0,\n        \"max\": 12684.0,\n        \"num_unique_values\": 5,\n        \"samples\": [\n          0.5614947965941344,\n          1.0,\n          0.4962235416149328\n        ],\n        \"semantic_type\": \"\",\n        \"description\": \"\"\n      }\n    },\n    {\n      \"column\": \"toCoupon_GEQ25min\",\n      \"properties\": {\n        \"dtype\": \"number\",\n        \"std\": 4484.398333003226,\n        \"min\": 0.0,\n        \"max\": 12684.0,\n        \"num_unique_values\": 5,\n        \"samples\": [\n          0.11912645853043204,\n          1.0,\n          0.3239500256352782\n        ],\n        \"semantic_type\": \"\",\n        \"description\": \"\"\n      }\n    },\n    {\n      \"column\": \"direction_same\",\n      \"properties\": {\n        \"dtype\": \"number\",\n        \"std\": 4484.389123019063,\n        \"min\": 0.0,\n        \"max\": 12684.0,\n        \"num_unique_values\": 5,\n        \"samples\": [\n          0.21475875118259224,\n          1.0,\n          0.4106710682640413\n        ],\n        \"semantic_type\": \"\",\n        \"description\": \"\"\n      }\n    },\n    {\n      \"column\": \"direction_opp\",\n      \"properties\": {\n        \"dtype\": \"number\",\n        \"std\": 4484.208787872153,\n        \"min\": 0.0,\n        \"max\": 12684.0,\n        \"num_unique_values\": 5,\n        \"samples\": [\n          0.7852412488174078,\n          1.0,\n          0.4106710682640413\n        ],\n        \"semantic_type\": \"\",\n        \"description\": \"\"\n      }\n    },\n    {\n      \"column\": \"Y\",\n      \"properties\": {\n        \"dtype\": \"number\",\n        \"std\": 4484.265975327715,\n        \"min\": 0.0,\n        \"max\": 12684.0,\n        \"num_unique_values\": 5,\n        \"samples\": [\n          0.5684326710816777,\n          1.0,\n          0.4953143564611855\n        ],\n        \"semantic_type\": \"\",\n        \"description\": \"\"\n      }\n    }\n  ]\n}"
            }
          },
          "metadata": {},
          "execution_count": 205
        }
      ],
      "source": [
        "data.describe()"
      ]
    },
    {
      "cell_type": "code",
      "source": [
        "data.isna().sum()\n"
      ],
      "metadata": {
        "colab": {
          "base_uri": "https://localhost:8080/",
          "height": 899
        },
        "id": "98NPGipv5lIo",
        "outputId": "e99113a6-4995-4d4d-9384-6a9ce719309e"
      },
      "execution_count": 206,
      "outputs": [
        {
          "output_type": "execute_result",
          "data": {
            "text/plain": [
              "destination                 0\n",
              "passanger                   0\n",
              "weather                     0\n",
              "temperature                 0\n",
              "time                        0\n",
              "coupon                      0\n",
              "expiration                  0\n",
              "gender                      0\n",
              "age                         0\n",
              "maritalStatus               0\n",
              "has_children                0\n",
              "education                   0\n",
              "occupation                  0\n",
              "income                      0\n",
              "car                     12576\n",
              "Bar                       107\n",
              "CoffeeHouse               217\n",
              "CarryAway                 151\n",
              "RestaurantLessThan20      130\n",
              "Restaurant20To50          189\n",
              "toCoupon_GEQ5min            0\n",
              "toCoupon_GEQ15min           0\n",
              "toCoupon_GEQ25min           0\n",
              "direction_same              0\n",
              "direction_opp               0\n",
              "Y                           0\n",
              "dtype: int64"
            ],
            "text/html": [
              "<div>\n",
              "<style scoped>\n",
              "    .dataframe tbody tr th:only-of-type {\n",
              "        vertical-align: middle;\n",
              "    }\n",
              "\n",
              "    .dataframe tbody tr th {\n",
              "        vertical-align: top;\n",
              "    }\n",
              "\n",
              "    .dataframe thead th {\n",
              "        text-align: right;\n",
              "    }\n",
              "</style>\n",
              "<table border=\"1\" class=\"dataframe\">\n",
              "  <thead>\n",
              "    <tr style=\"text-align: right;\">\n",
              "      <th></th>\n",
              "      <th>0</th>\n",
              "    </tr>\n",
              "  </thead>\n",
              "  <tbody>\n",
              "    <tr>\n",
              "      <th>destination</th>\n",
              "      <td>0</td>\n",
              "    </tr>\n",
              "    <tr>\n",
              "      <th>passanger</th>\n",
              "      <td>0</td>\n",
              "    </tr>\n",
              "    <tr>\n",
              "      <th>weather</th>\n",
              "      <td>0</td>\n",
              "    </tr>\n",
              "    <tr>\n",
              "      <th>temperature</th>\n",
              "      <td>0</td>\n",
              "    </tr>\n",
              "    <tr>\n",
              "      <th>time</th>\n",
              "      <td>0</td>\n",
              "    </tr>\n",
              "    <tr>\n",
              "      <th>coupon</th>\n",
              "      <td>0</td>\n",
              "    </tr>\n",
              "    <tr>\n",
              "      <th>expiration</th>\n",
              "      <td>0</td>\n",
              "    </tr>\n",
              "    <tr>\n",
              "      <th>gender</th>\n",
              "      <td>0</td>\n",
              "    </tr>\n",
              "    <tr>\n",
              "      <th>age</th>\n",
              "      <td>0</td>\n",
              "    </tr>\n",
              "    <tr>\n",
              "      <th>maritalStatus</th>\n",
              "      <td>0</td>\n",
              "    </tr>\n",
              "    <tr>\n",
              "      <th>has_children</th>\n",
              "      <td>0</td>\n",
              "    </tr>\n",
              "    <tr>\n",
              "      <th>education</th>\n",
              "      <td>0</td>\n",
              "    </tr>\n",
              "    <tr>\n",
              "      <th>occupation</th>\n",
              "      <td>0</td>\n",
              "    </tr>\n",
              "    <tr>\n",
              "      <th>income</th>\n",
              "      <td>0</td>\n",
              "    </tr>\n",
              "    <tr>\n",
              "      <th>car</th>\n",
              "      <td>12576</td>\n",
              "    </tr>\n",
              "    <tr>\n",
              "      <th>Bar</th>\n",
              "      <td>107</td>\n",
              "    </tr>\n",
              "    <tr>\n",
              "      <th>CoffeeHouse</th>\n",
              "      <td>217</td>\n",
              "    </tr>\n",
              "    <tr>\n",
              "      <th>CarryAway</th>\n",
              "      <td>151</td>\n",
              "    </tr>\n",
              "    <tr>\n",
              "      <th>RestaurantLessThan20</th>\n",
              "      <td>130</td>\n",
              "    </tr>\n",
              "    <tr>\n",
              "      <th>Restaurant20To50</th>\n",
              "      <td>189</td>\n",
              "    </tr>\n",
              "    <tr>\n",
              "      <th>toCoupon_GEQ5min</th>\n",
              "      <td>0</td>\n",
              "    </tr>\n",
              "    <tr>\n",
              "      <th>toCoupon_GEQ15min</th>\n",
              "      <td>0</td>\n",
              "    </tr>\n",
              "    <tr>\n",
              "      <th>toCoupon_GEQ25min</th>\n",
              "      <td>0</td>\n",
              "    </tr>\n",
              "    <tr>\n",
              "      <th>direction_same</th>\n",
              "      <td>0</td>\n",
              "    </tr>\n",
              "    <tr>\n",
              "      <th>direction_opp</th>\n",
              "      <td>0</td>\n",
              "    </tr>\n",
              "    <tr>\n",
              "      <th>Y</th>\n",
              "      <td>0</td>\n",
              "    </tr>\n",
              "  </tbody>\n",
              "</table>\n",
              "</div><br><label><b>dtype:</b> int64</label>"
            ]
          },
          "metadata": {},
          "execution_count": 206
        }
      ]
    },
    {
      "cell_type": "markdown",
      "metadata": {
        "id": "bSdVSpYB_qRH"
      },
      "source": [
        "3. Decide what to do about your missing data -- drop, replace, other..."
      ]
    },
    {
      "cell_type": "code",
      "execution_count": 207,
      "metadata": {
        "id": "tyvoAC5F_qRI",
        "colab": {
          "base_uri": "https://localhost:8080/"
        },
        "outputId": "e76a0f8a-a3f9-4a80-e976-3d368b416922"
      },
      "outputs": [
        {
          "output_type": "stream",
          "name": "stdout",
          "text": [
            "Percent of missing data is 99.14853358561967\n"
          ]
        }
      ],
      "source": [
        "#for each of remaining columns, i'm checking what portion of it is missing\n",
        "cardata=((data['car'].isnull().sum()/data.shape[0])*100)\n",
        "print('Percent of missing data is', cardata)"
      ]
    },
    {
      "cell_type": "markdown",
      "source": [
        "Clearly, I should drop the entire Car column, because 99% of the data is missing."
      ],
      "metadata": {
        "id": "rnhNbGi0YRJR"
      }
    },
    {
      "cell_type": "code",
      "source": [
        "#checking portion of missing coffee data\n",
        "Coffeedata=((data['CoffeeHouse'].isnull().sum()/data.shape[0])*100)\n",
        "print('Percent of missing data is', Coffeedata)"
      ],
      "metadata": {
        "colab": {
          "base_uri": "https://localhost:8080/"
        },
        "id": "cydH1nrr-RAK",
        "outputId": "6e114004-571b-449d-acd4-942652382253"
      },
      "execution_count": 208,
      "outputs": [
        {
          "output_type": "stream",
          "name": "stdout",
          "text": [
            "Percent of missing data is 1.7108167770419427\n"
          ]
        }
      ]
    },
    {
      "cell_type": "code",
      "source": [
        "coffeecolumn=data['CoffeeHouse'].value_counts()\n",
        "print(coffeecolumn)"
      ],
      "metadata": {
        "colab": {
          "base_uri": "https://localhost:8080/"
        },
        "id": "G0XN2mk3L_6H",
        "outputId": "e7a37c39-be9a-4f87-be07-ec890f7f112d"
      },
      "execution_count": 209,
      "outputs": [
        {
          "output_type": "stream",
          "name": "stdout",
          "text": [
            "CoffeeHouse\n",
            "less1    3385\n",
            "1~3      3225\n",
            "never    2962\n",
            "4~8      1784\n",
            "gt8      1111\n",
            "Name: count, dtype: int64\n"
          ]
        }
      ]
    },
    {
      "cell_type": "code",
      "source": [
        "#lets plot coffee\n",
        "ax=data['CoffeeHouse'].hist(bins=5, density=True, stacked=True, color='green', edgecolor='black')\n",
        "plt.xlabel(\"Coffee House Visits\")\n",
        "plt.ylabel(\"Frequency\")\n",
        "plt.title(\"Frequency of Coffee House Visits\")\n",
        "plt.show()"
      ],
      "metadata": {
        "colab": {
          "base_uri": "https://localhost:8080/",
          "height": 472
        },
        "id": "xuUBUZK9NlOS",
        "outputId": "3b42fd7c-25d6-474b-8d3b-b1cbbc44a83a"
      },
      "execution_count": 210,
      "outputs": [
        {
          "output_type": "display_data",
          "data": {
            "text/plain": [
              "<Figure size 640x480 with 1 Axes>"
            ],
            "image/png": "[encoded data removed]"
          },
          "metadata": {}
        }
      ]
    },
    {
      "cell_type": "code",
      "source": [
        "#percent of total that should be each category for coffeehouse\n",
        "data['CoffeeHouse'].value_counts(normalize=True)\n",
        "#what do i do here? use this distribution against my null values? i think i should drop the rows"
      ],
      "metadata": {
        "colab": {
          "base_uri": "https://localhost:8080/",
          "height": 272
        },
        "id": "dJx4w4ZHO6pV",
        "outputId": "0df269e9-63e6-4e55-fc05-0455d1d89a99"
      },
      "execution_count": 211,
      "outputs": [
        {
          "output_type": "execute_result",
          "data": {
            "text/plain": [
              "CoffeeHouse\n",
              "less1    0.271517\n",
              "1~3      0.258683\n",
              "never    0.237587\n",
              "4~8      0.143098\n",
              "gt8      0.089115\n",
              "Name: proportion, dtype: float64"
            ],
            "text/html": [
              "<div>\n",
              "<style scoped>\n",
              "    .dataframe tbody tr th:only-of-type {\n",
              "        vertical-align: middle;\n",
              "    }\n",
              "\n",
              "    .dataframe tbody tr th {\n",
              "        vertical-align: top;\n",
              "    }\n",
              "\n",
              "    .dataframe thead th {\n",
              "        text-align: right;\n",
              "    }\n",
              "</style>\n",
              "<table border=\"1\" class=\"dataframe\">\n",
              "  <thead>\n",
              "    <tr style=\"text-align: right;\">\n",
              "      <th></th>\n",
              "      <th>proportion</th>\n",
              "    </tr>\n",
              "    <tr>\n",
              "      <th>CoffeeHouse</th>\n",
              "      <th></th>\n",
              "    </tr>\n",
              "  </thead>\n",
              "  <tbody>\n",
              "    <tr>\n",
              "      <th>less1</th>\n",
              "      <td>0.271517</td>\n",
              "    </tr>\n",
              "    <tr>\n",
              "      <th>1~3</th>\n",
              "      <td>0.258683</td>\n",
              "    </tr>\n",
              "    <tr>\n",
              "      <th>never</th>\n",
              "      <td>0.237587</td>\n",
              "    </tr>\n",
              "    <tr>\n",
              "      <th>4~8</th>\n",
              "      <td>0.143098</td>\n",
              "    </tr>\n",
              "    <tr>\n",
              "      <th>gt8</th>\n",
              "      <td>0.089115</td>\n",
              "    </tr>\n",
              "  </tbody>\n",
              "</table>\n",
              "</div><br><label><b>dtype:</b> float64</label>"
            ]
          },
          "metadata": {},
          "execution_count": 211
        }
      ]
    },
    {
      "cell_type": "markdown",
      "source": [
        "After looking at CoffeeHouse data, it will be difficult to assign a value that won't skew the data.  I will drop the rows that have null values in CoffeeHouse"
      ],
      "metadata": {
        "id": "Dt-nNE5mY0ah"
      }
    },
    {
      "cell_type": "code",
      "source": [
        "#checking for bar data to see what i should do with it\n",
        "bardata=data['Bar'].value_counts() #.idxmax()\n",
        "print(bardata)"
      ],
      "metadata": {
        "colab": {
          "base_uri": "https://localhost:8080/"
        },
        "id": "Z9cSnCKJ8vM4",
        "outputId": "67066834-c502-44b9-850a-dfbd789b3fd4"
      },
      "execution_count": 212,
      "outputs": [
        {
          "output_type": "stream",
          "name": "stdout",
          "text": [
            "Bar\n",
            "never    5197\n",
            "less1    3482\n",
            "1~3      2473\n",
            "4~8      1076\n",
            "gt8       349\n",
            "Name: count, dtype: int64\n"
          ]
        }
      ]
    },
    {
      "cell_type": "markdown",
      "source": [
        "I could replace null values in the Bar column with never or less1, but i think it is better to drop these rows."
      ],
      "metadata": {
        "id": "M9cBivMb9-4i"
      }
    },
    {
      "cell_type": "code",
      "source": [
        "#check for carry out\n",
        "carryoutdata=data['CarryAway'].value_counts()\n",
        "print(carryoutdata)\n",
        "#about 50 50 for 1-3 or 4-8"
      ],
      "metadata": {
        "colab": {
          "base_uri": "https://localhost:8080/"
        },
        "id": "FRF-kBMbRLyD",
        "outputId": "13566378-a66a-4f89-f28c-5096e0835499"
      },
      "execution_count": 213,
      "outputs": [
        {
          "output_type": "stream",
          "name": "stdout",
          "text": [
            "CarryAway\n",
            "1~3      4672\n",
            "4~8      4258\n",
            "less1    1856\n",
            "gt8      1594\n",
            "never     153\n",
            "Name: count, dtype: int64\n"
          ]
        }
      ]
    },
    {
      "cell_type": "markdown",
      "source": [
        "I could assign CarryAway null values by giving half of them the value of 1-3 and the other half 4-8, but i would rather drop these rows instead of guessing."
      ],
      "metadata": {
        "id": "92dFga9uZGgJ"
      }
    },
    {
      "cell_type": "code",
      "source": [
        "#check for RestaurantLessThan20\n",
        "RestaurantLessThan20data=data['RestaurantLessThan20'].value_counts()\n",
        "print(RestaurantLessThan20data)\n",
        "#majority is 1-3"
      ],
      "metadata": {
        "colab": {
          "base_uri": "https://localhost:8080/"
        },
        "id": "Dv2-p166RtiU",
        "outputId": "9348efbe-846b-4922-a926-9d92ca9a5127"
      },
      "execution_count": 214,
      "outputs": [
        {
          "output_type": "stream",
          "name": "stdout",
          "text": [
            "RestaurantLessThan20\n",
            "1~3      5376\n",
            "4~8      3580\n",
            "less1    2093\n",
            "gt8      1285\n",
            "never     220\n",
            "Name: count, dtype: int64\n"
          ]
        }
      ]
    },
    {
      "cell_type": "code",
      "source": [
        "sns.histplot(data=data, x='RestaurantLessThan20', hue='destination', bins=5, stat='count', multiple='stack')\n",
        "plt.xlabel(\"Number of Cheap Restaurants Visited\")\n",
        "plt.ylabel(\"Total Count\")\n",
        "plt.title(\"Cheap Restaurant Acceptance by Destination\")"
      ],
      "metadata": {
        "colab": {
          "base_uri": "https://localhost:8080/",
          "height": 489
        },
        "id": "m51G4TteaFte",
        "outputId": "cc7ceef2-c776-4f07-f525-64e64853bbe4"
      },
      "execution_count": 215,
      "outputs": [
        {
          "output_type": "execute_result",
          "data": {
            "text/plain": [
              "Text(0.5, 1.0, 'Cheap Restaurant Acceptance by Destination')"
            ]
          },
          "metadata": {},
          "execution_count": 215
        },
        {
          "output_type": "display_data",
          "data": {
            "text/plain": [
              "<Figure size 640x480 with 1 Axes>"
            ],
            "image/png": "[encoded data removed]"
          },
          "metadata": {}
        }
      ]
    },
    {
      "cell_type": "markdown",
      "source": [
        "For RestaurantLessThan20data, i can assign the null data a value of 1-3.  "
      ],
      "metadata": {
        "id": "n70R8phHZarg"
      }
    },
    {
      "cell_type": "code",
      "source": [
        "#check for Restaurant20To50\n",
        "Restaurant20To50data=data['Restaurant20To50'].value_counts()\n",
        "print(Restaurant20To50data)\n",
        "#make this less than 1\n"
      ],
      "metadata": {
        "colab": {
          "base_uri": "https://localhost:8080/"
        },
        "id": "mHpL_7U2RtXz",
        "outputId": "668723cf-779d-4529-8e8a-32bc4466bf5a"
      },
      "execution_count": 216,
      "outputs": [
        {
          "output_type": "stream",
          "name": "stdout",
          "text": [
            "Restaurant20To50\n",
            "less1    6077\n",
            "1~3      3290\n",
            "never    2136\n",
            "4~8       728\n",
            "gt8       264\n",
            "Name: count, dtype: int64\n"
          ]
        }
      ]
    },
    {
      "cell_type": "code",
      "source": [
        "sns.histplot(data=data, x='Restaurant20To50', hue='destination', bins=5, stat='count', multiple='stack')\n",
        "plt.xlabel(\"Number of Expensive Restaurants Visited\")\n",
        "plt.ylabel(\"Total Count\")\n",
        "plt.title(\"Expensive Restaurant Acceptance by Destination\")"
      ],
      "metadata": {
        "colab": {
          "base_uri": "https://localhost:8080/",
          "height": 489
        },
        "id": "TnWf_zE7aqv-",
        "outputId": "1e798b93-34b7-46c0-f8e0-ad2312775a75"
      },
      "execution_count": 217,
      "outputs": [
        {
          "output_type": "execute_result",
          "data": {
            "text/plain": [
              "Text(0.5, 1.0, 'Expensive Restaurant Acceptance by Destination')"
            ]
          },
          "metadata": {},
          "execution_count": 217
        },
        {
          "output_type": "display_data",
          "data": {
            "text/plain": [
              "<Figure size 640x480 with 1 Axes>"
            ],
            "image/png": "[encoded data removed]"
          },
          "metadata": {}
        }
      ]
    },
    {
      "cell_type": "markdown",
      "source": [
        "For more expensive restaurants (Restaurant20To50) I can assign a value of less1"
      ],
      "metadata": {
        "id": "agHdgA-faz68"
      }
    },
    {
      "cell_type": "markdown",
      "source": [
        "The section below is part 1 of the data cleansing section where I will address null values as indicated above:\n",
        "\n",
        "\n",
        "1.   Drop the car column\n",
        "1.   Fill null values in Bar column with \"never\"\n",
        "2.   Fill null values in Restaurant20to50 with \"less1\"\n",
        "1.   Fill null values in RestaurantLess20 with \"1-3\"\n",
        "2.   Drop null rows for CoffeeHouse\n",
        "2.   Drop null rows for CarryAway\n",
        "\n"
      ],
      "metadata": {
        "id": "Wey3wzQwSfeb"
      }
    },
    {
      "cell_type": "code",
      "source": [
        "#drop car column\n",
        "if 'car' in data.columns:\n",
        "    data.drop(columns=['car'], inplace=True, errors='ignore')\n",
        "\n",
        "#fill bar data with never\n",
        "data['Bar'].fillna('never', inplace=True)\n",
        "\n",
        "#fill restaurant data Restaurant20To50\n",
        "data['Restaurant20To50'].fillna('less1', inplace=True)\n",
        "\n",
        "#fill in data for RestaurantLessThan20 making it 1-3\n",
        "data['RestaurantLessThan20'].fillna('1~3', inplace=True)\n",
        "\n",
        "#drop carry out nans\n",
        "data.dropna(subset=['CarryAway'], inplace=True)\n",
        "\n",
        "#drop coffeehouse nans\n",
        "data.dropna(subset=['CoffeeHouse'], inplace=True)\n",
        "\n",
        "#check null values again\n",
        "data.isna().sum()\n",
        "\n",
        "\n",
        "#fill bar data with never\n",
        "data['Bar'].fillna('never', inplace=True)\n",
        "\n",
        "#fill restaurant data Restaurant20To50\n",
        "data['Restaurant20To50'].fillna('less1', inplace=True)\n",
        "\n",
        "#fill in data for RestaurantLessThan20 making it 1-3\n",
        "data['RestaurantLessThan20'].fillna('1~3', inplace=True)\n",
        "\n",
        "#drop carry out nans\n",
        "data.dropna(subset=['CarryAway'], inplace=True)\n",
        "\n",
        "#drop coffeehouse nans\n",
        "data.dropna(subset=['CoffeeHouse'], inplace=True)\n",
        "\n",
        "#check null values again\n",
        "data.isna().sum()\n",
        "\n"
      ],
      "metadata": {
        "colab": {
          "base_uri": "https://localhost:8080/",
          "height": 1000
        },
        "id": "nFRMDU3mSnud",
        "outputId": "f2aef8f0-4a2d-4bb9-a466-c83f63aa3a68"
      },
      "execution_count": 218,
      "outputs": [
        {
          "output_type": "stream",
          "name": "stderr",
          "text": [
            "<ipython-input-218-7f5c028ccc02>:6: FutureWarning: A value is trying to be set on a copy of a DataFrame or Series through chained assignment using an inplace method.\n",
            "The behavior will change in pandas 3.0. This inplace method will never work because the intermediate object on which we are setting values always behaves as a copy.\n",
            "\n",
            "For example, when doing 'df[col].method(value, inplace=True)', try using 'df.method({col: value}, inplace=True)' or df[col] = df[col].method(value) instead, to perform the operation inplace on the original object.\n",
            "\n",
            "\n",
            "  data['Bar'].fillna('never', inplace=True)\n",
            "<ipython-input-218-7f5c028ccc02>:9: FutureWarning: A value is trying to be set on a copy of a DataFrame or Series through chained assignment using an inplace method.\n",
            "The behavior will change in pandas 3.0. This inplace method will never work because the intermediate object on which we are setting values always behaves as a copy.\n",
            "\n",
            "For example, when doing 'df[col].method(value, inplace=True)', try using 'df.method({col: value}, inplace=True)' or df[col] = df[col].method(value) instead, to perform the operation inplace on the original object.\n",
            "\n",
            "\n",
            "  data['Restaurant20To50'].fillna('less1', inplace=True)\n",
            "<ipython-input-218-7f5c028ccc02>:12: FutureWarning: A value is trying to be set on a copy of a DataFrame or Series through chained assignment using an inplace method.\n",
            "The behavior will change in pandas 3.0. This inplace method will never work because the intermediate object on which we are setting values always behaves as a copy.\n",
            "\n",
            "For example, when doing 'df[col].method(value, inplace=True)', try using 'df.method({col: value}, inplace=True)' or df[col] = df[col].method(value) instead, to perform the operation inplace on the original object.\n",
            "\n",
            "\n",
            "  data['RestaurantLessThan20'].fillna('1~3', inplace=True)\n",
            "<ipython-input-218-7f5c028ccc02>:25: FutureWarning: A value is trying to be set on a copy of a DataFrame or Series through chained assignment using an inplace method.\n",
            "The behavior will change in pandas 3.0. This inplace method will never work because the intermediate object on which we are setting values always behaves as a copy.\n",
            "\n",
            "For example, when doing 'df[col].method(value, inplace=True)', try using 'df.method({col: value}, inplace=True)' or df[col] = df[col].method(value) instead, to perform the operation inplace on the original object.\n",
            "\n",
            "\n",
            "  data['Bar'].fillna('never', inplace=True)\n",
            "<ipython-input-218-7f5c028ccc02>:28: FutureWarning: A value is trying to be set on a copy of a DataFrame or Series through chained assignment using an inplace method.\n",
            "The behavior will change in pandas 3.0. This inplace method will never work because the intermediate object on which we are setting values always behaves as a copy.\n",
            "\n",
            "For example, when doing 'df[col].method(value, inplace=True)', try using 'df.method({col: value}, inplace=True)' or df[col] = df[col].method(value) instead, to perform the operation inplace on the original object.\n",
            "\n",
            "\n",
            "  data['Restaurant20To50'].fillna('less1', inplace=True)\n",
            "<ipython-input-218-7f5c028ccc02>:31: FutureWarning: A value is trying to be set on a copy of a DataFrame or Series through chained assignment using an inplace method.\n",
            "The behavior will change in pandas 3.0. This inplace method will never work because the intermediate object on which we are setting values always behaves as a copy.\n",
            "\n",
            "For example, when doing 'df[col].method(value, inplace=True)', try using 'df.method({col: value}, inplace=True)' or df[col] = df[col].method(value) instead, to perform the operation inplace on the original object.\n",
            "\n",
            "\n",
            "  data['RestaurantLessThan20'].fillna('1~3', inplace=True)\n"
          ]
        },
        {
          "output_type": "execute_result",
          "data": {
            "text/plain": [
              "destination             0\n",
              "passanger               0\n",
              "weather                 0\n",
              "temperature             0\n",
              "time                    0\n",
              "coupon                  0\n",
              "expiration              0\n",
              "gender                  0\n",
              "age                     0\n",
              "maritalStatus           0\n",
              "has_children            0\n",
              "education               0\n",
              "occupation              0\n",
              "income                  0\n",
              "Bar                     0\n",
              "CoffeeHouse             0\n",
              "CarryAway               0\n",
              "RestaurantLessThan20    0\n",
              "Restaurant20To50        0\n",
              "toCoupon_GEQ5min        0\n",
              "toCoupon_GEQ15min       0\n",
              "toCoupon_GEQ25min       0\n",
              "direction_same          0\n",
              "direction_opp           0\n",
              "Y                       0\n",
              "dtype: int64"
            ],
            "text/html": [
              "<div>\n",
              "<style scoped>\n",
              "    .dataframe tbody tr th:only-of-type {\n",
              "        vertical-align: middle;\n",
              "    }\n",
              "\n",
              "    .dataframe tbody tr th {\n",
              "        vertical-align: top;\n",
              "    }\n",
              "\n",
              "    .dataframe thead th {\n",
              "        text-align: right;\n",
              "    }\n",
              "</style>\n",
              "<table border=\"1\" class=\"dataframe\">\n",
              "  <thead>\n",
              "    <tr style=\"text-align: right;\">\n",
              "      <th></th>\n",
              "      <th>0</th>\n",
              "    </tr>\n",
              "  </thead>\n",
              "  <tbody>\n",
              "    <tr>\n",
              "      <th>destination</th>\n",
              "      <td>0</td>\n",
              "    </tr>\n",
              "    <tr>\n",
              "      <th>passanger</th>\n",
              "      <td>0</td>\n",
              "    </tr>\n",
              "    <tr>\n",
              "      <th>weather</th>\n",
              "      <td>0</td>\n",
              "    </tr>\n",
              "    <tr>\n",
              "      <th>temperature</th>\n",
              "      <td>0</td>\n",
              "    </tr>\n",
              "    <tr>\n",
              "      <th>time</th>\n",
              "      <td>0</td>\n",
              "    </tr>\n",
              "    <tr>\n",
              "      <th>coupon</th>\n",
              "      <td>0</td>\n",
              "    </tr>\n",
              "    <tr>\n",
              "      <th>expiration</th>\n",
              "      <td>0</td>\n",
              "    </tr>\n",
              "    <tr>\n",
              "      <th>gender</th>\n",
              "      <td>0</td>\n",
              "    </tr>\n",
              "    <tr>\n",
              "      <th>age</th>\n",
              "      <td>0</td>\n",
              "    </tr>\n",
              "    <tr>\n",
              "      <th>maritalStatus</th>\n",
              "      <td>0</td>\n",
              "    </tr>\n",
              "    <tr>\n",
              "      <th>has_children</th>\n",
              "      <td>0</td>\n",
              "    </tr>\n",
              "    <tr>\n",
              "      <th>education</th>\n",
              "      <td>0</td>\n",
              "    </tr>\n",
              "    <tr>\n",
              "      <th>occupation</th>\n",
              "      <td>0</td>\n",
              "    </tr>\n",
              "    <tr>\n",
              "      <th>income</th>\n",
              "      <td>0</td>\n",
              "    </tr>\n",
              "    <tr>\n",
              "      <th>Bar</th>\n",
              "      <td>0</td>\n",
              "    </tr>\n",
              "    <tr>\n",
              "      <th>CoffeeHouse</th>\n",
              "      <td>0</td>\n",
              "    </tr>\n",
              "    <tr>\n",
              "      <th>CarryAway</th>\n",
              "      <td>0</td>\n",
              "    </tr>\n",
              "    <tr>\n",
              "      <th>RestaurantLessThan20</th>\n",
              "      <td>0</td>\n",
              "    </tr>\n",
              "    <tr>\n",
              "      <th>Restaurant20To50</th>\n",
              "      <td>0</td>\n",
              "    </tr>\n",
              "    <tr>\n",
              "      <th>toCoupon_GEQ5min</th>\n",
              "      <td>0</td>\n",
              "    </tr>\n",
              "    <tr>\n",
              "      <th>toCoupon_GEQ15min</th>\n",
              "      <td>0</td>\n",
              "    </tr>\n",
              "    <tr>\n",
              "      <th>toCoupon_GEQ25min</th>\n",
              "      <td>0</td>\n",
              "    </tr>\n",
              "    <tr>\n",
              "      <th>direction_same</th>\n",
              "      <td>0</td>\n",
              "    </tr>\n",
              "    <tr>\n",
              "      <th>direction_opp</th>\n",
              "      <td>0</td>\n",
              "    </tr>\n",
              "    <tr>\n",
              "      <th>Y</th>\n",
              "      <td>0</td>\n",
              "    </tr>\n",
              "  </tbody>\n",
              "</table>\n",
              "</div><br><label><b>dtype:</b> int64</label>"
            ]
          },
          "metadata": {},
          "execution_count": 218
        }
      ]
    },
    {
      "cell_type": "markdown",
      "source": [
        "This section is part 2 of data cleansing where I clean the data that exists by putting it into more meaningful formats.  Changes include\n",
        "\n",
        "\n",
        "1.   Fix spelling of passenger column\n",
        "2.   Rename column headings from 'toCoupons_GEQ%min' to something easier to retype\n",
        "1.   Change the data in the 'age' column to a number\n",
        "2.   Change coupon offerings columns 'Coupon_%mins' to a numberic value\n",
        "1.   Create a column that sums the values of the coupon offerings\n",
        "2.   Change the data in 'time' to military time so it is in the right order\n",
        "\n",
        "\n",
        "\n",
        "\n",
        "\n",
        "\n"
      ],
      "metadata": {
        "id": "AozZdy5wczzp"
      }
    },
    {
      "cell_type": "code",
      "source": [
        "#spelling for passanger\n",
        "data.rename(columns={'passanger':'passenger'}, inplace=True)\n",
        "\n",
        "#change toCoupon_GEQ5min to something easier\n",
        "data.rename(columns={'toCoupon_GEQ5min':'Coupon_5mins'}, inplace=True)\n",
        "data.rename(columns={'toCoupon_GEQ15min':'Coupon_15mins'}, inplace=True)\n",
        "data.rename(columns={'toCoupon_GEQ25min':'Coupon_25mins'}, inplace=True)\n",
        "\n",
        "#number for age\n",
        "#data['age'] = pd.to_numeric(data['age'], errors='coerce')\n",
        "data['age'] = data['age'].astype('Int64')\n",
        "\n",
        "#change coupon distance to numerical values\n",
        "data['Coupon_5mins'] = pd.to_numeric(data['Coupon_5mins'], errors='coerce')\n",
        "data['Coupon_15mins'] = pd.to_numeric(data['Coupon_15mins'], errors='coerce')\n",
        "data['Coupon_25mins'] = pd.to_numeric(data['Coupon_15mins'], errors='coerce')\n",
        "\n",
        "\n",
        "#create a summary column to see if people accept the coupon more than once\n",
        "#this is the column that will be used to identify our customer characteristics\n",
        "data['combined_coupons'] = data['Coupon_5mins'] + data['Coupon_15mins'] + data['Coupon_25mins']\n",
        "data['combined_coupons'].value_counts()\n",
        "\n",
        "#change the time column to reflect military time\n",
        "data['time'] = data['time'].replace('12AM', '0000')\n",
        "data['time'] = data['time'].replace('10AM', '1000')\n",
        "data['time'] = data['time'].replace('2PM', '1400')\n",
        "data['time'] = data['time'].replace('6PM', '1800')\n",
        "data['time'] = data['time'].replace('10PM', '2200')\n",
        "data['time'] = data['time'].replace('7AM', '0700')\n",
        "data['time']=pd.to_numeric(data['time'], errors='coerce')\n",
        "data['age'].value_counts()\n"
      ],
      "metadata": {
        "colab": {
          "base_uri": "https://localhost:8080/",
          "height": 303
        },
        "id": "F1LXSySWc_cu",
        "outputId": "6f560956-8f66-45e3-89dd-fbbfbebe4633"
      },
      "execution_count": 253,
      "outputs": [
        {
          "output_type": "execute_result",
          "data": {
            "text/plain": [
              "age\n",
              "21    2603\n",
              "26    2415\n",
              "31    2012\n",
              "36    1275\n",
              "41    1087\n",
              "46     686\n",
              "Name: count, dtype: Int64"
            ],
            "text/html": [
              "<div>\n",
              "<style scoped>\n",
              "    .dataframe tbody tr th:only-of-type {\n",
              "        vertical-align: middle;\n",
              "    }\n",
              "\n",
              "    .dataframe tbody tr th {\n",
              "        vertical-align: top;\n",
              "    }\n",
              "\n",
              "    .dataframe thead th {\n",
              "        text-align: right;\n",
              "    }\n",
              "</style>\n",
              "<table border=\"1\" class=\"dataframe\">\n",
              "  <thead>\n",
              "    <tr style=\"text-align: right;\">\n",
              "      <th></th>\n",
              "      <th>count</th>\n",
              "    </tr>\n",
              "    <tr>\n",
              "      <th>age</th>\n",
              "      <th></th>\n",
              "    </tr>\n",
              "  </thead>\n",
              "  <tbody>\n",
              "    <tr>\n",
              "      <th>21</th>\n",
              "      <td>2603</td>\n",
              "    </tr>\n",
              "    <tr>\n",
              "      <th>26</th>\n",
              "      <td>2415</td>\n",
              "    </tr>\n",
              "    <tr>\n",
              "      <th>31</th>\n",
              "      <td>2012</td>\n",
              "    </tr>\n",
              "    <tr>\n",
              "      <th>36</th>\n",
              "      <td>1275</td>\n",
              "    </tr>\n",
              "    <tr>\n",
              "      <th>41</th>\n",
              "      <td>1087</td>\n",
              "    </tr>\n",
              "    <tr>\n",
              "      <th>46</th>\n",
              "      <td>686</td>\n",
              "    </tr>\n",
              "  </tbody>\n",
              "</table>\n",
              "</div><br><label><b>dtype:</b> Int64</label>"
            ]
          },
          "metadata": {},
          "execution_count": 253
        }
      ]
    },
    {
      "cell_type": "markdown",
      "source": [
        "Now that I have completed the data cleansing for the columns of data I need (not all columns), let me explain the reason I created a column called 'combined_coupons'. According to the data, everyone in the entire dataset accepted the coupon at the 5 minute mark (Coupon_5mins)  You will see this demonstrated under question 4.\n",
        "\n",
        "The combined coupons shows that there are only values of 1 and 3. None of the population scored 2.\n",
        "\n",
        "The outcome of 1 and 3 demonstrates that the same 50% that accepted at 25mins accepted again at 15min and 5min.  Since no one showed up as 2, then we can conclude those who accepted at 25 mins were exactly the same as those who accepted at 15 and 5. the remaining 50% are those who accepted only within 5 mins. There is also a possibility that if you accept at 25 min, and are still on the way to that destination at 15 and 5 mins, you are counted as accepting the coupon each time.  \n",
        "\n"
      ],
      "metadata": {
        "id": "-oOonEoKPCfb"
      }
    },
    {
      "cell_type": "markdown",
      "metadata": {
        "id": "YE6oJbXd_qRI"
      },
      "source": [
        "4. What proportion of the total observations chose to accept the coupon?\n",
        "\n"
      ]
    },
    {
      "cell_type": "code",
      "execution_count": 220,
      "metadata": {
        "id": "86GGqBTv_qRI",
        "colab": {
          "base_uri": "https://localhost:8080/"
        },
        "outputId": "86454b8e-83fb-43f8-fac8-560ab20f3d56"
      },
      "outputs": [
        {
          "output_type": "stream",
          "name": "stdout",
          "text": [
            "Coupon_5mins\n",
            "1    100.0\n",
            "Name: count, dtype: float64\n"
          ]
        }
      ],
      "source": [
        "#check for value of 1 in coupon acceptance in specific columns\n",
        "\n",
        "fivemins=((data['Coupon_5mins'].value_counts()/data.shape[0])*100)\n",
        "print(fivemins)"
      ]
    },
    {
      "cell_type": "code",
      "source": [
        "#creating the two data frames that i can use to define customer characteristics\n",
        "#one for those who accepted 3 and one for those who accepted 1\n",
        "#this table can be used for analysis later to understand user attributes\n",
        "\n",
        "accepted_all_coupons = data[data['combined_coupons'] == 3]\n",
        "accepted_all_coupons_ratio = len(accepted_all_coupons) / len(data)\n",
        "print(accepted_all_coupons_ratio)\n",
        "accepted_5mins_coupons = data[data['combined_coupons'] == 1]\n",
        "accepted_5mins_coupons_ratio = len(accepted_5mins_coupons) / len(data)\n",
        "print(\"All coupons percentage is\", accepted_all_coupons_ratio)\n",
        "print(\"Five min coupons percentage is\",accepted_5mins_coupons_ratio)"
      ],
      "metadata": {
        "colab": {
          "base_uri": "https://localhost:8080/"
        },
        "id": "GKlLKXDJPojX",
        "outputId": "80f48e3e-77b5-4587-d3de-5ad51d60ea01"
      },
      "execution_count": 221,
      "outputs": [
        {
          "output_type": "stream",
          "name": "stdout",
          "text": [
            "0.5619032205858553\n",
            "All coupons percentage is 0.5619032205858553\n",
            "Five min coupons percentage is 0.4380967794141447\n"
          ]
        }
      ]
    },
    {
      "cell_type": "code",
      "source": [
        "#visualize the combined_coupons and show destination\n",
        "sns.histplot(data=data, x='combined_coupons', hue='destination', bins=5, stat='count', multiple='stack')\n",
        "plt.xlabel(\"Number of Coupons Accepted\")\n",
        "plt.ylabel(\"Total Count\")\n",
        "plt.title(\"Coupon Acceptance by Destination\")\n",
        "plt.xlim(0,5)\n",
        "plt.show()"
      ],
      "metadata": {
        "colab": {
          "base_uri": "https://localhost:8080/",
          "height": 472
        },
        "id": "0y-RygtUZhhq",
        "outputId": "8ed94fdc-a194-4f1b-93fd-145d1d34d3b6"
      },
      "execution_count": 222,
      "outputs": [
        {
          "output_type": "display_data",
          "data": {
            "text/plain": [
              "<Figure size 640x480 with 1 Axes>"
            ],
            "image/png": "[encoded data removed]"
          },
          "metadata": {}
        }
      ]
    },
    {
      "cell_type": "markdown",
      "metadata": {
        "id": "vflz0DoE_qRI"
      },
      "source": [
        "5. Use a bar plot to visualize the `coupon` column."
      ]
    },
    {
      "cell_type": "code",
      "source": [
        "#Create a plot showing the value counts for each type of coupon\n",
        "ratios=data['coupon'].value_counts()\n",
        "print(ratios)\n"
      ],
      "metadata": {
        "colab": {
          "base_uri": "https://localhost:8080/"
        },
        "id": "_2E6W5vzoyq7",
        "outputId": "1eaa16b1-3663-4087-f0e6-b28af50e16e2"
      },
      "execution_count": 223,
      "outputs": [
        {
          "output_type": "stream",
          "name": "stdout",
          "text": [
            "coupon\n",
            "Coffee House             3888\n",
            "Restaurant(<20)          2714\n",
            "Carry out & Take away    2340\n",
            "Bar                      1963\n",
            "Restaurant(20-50)        1453\n",
            "Name: count, dtype: int64\n"
          ]
        }
      ]
    },
    {
      "cell_type": "code",
      "source": [
        "#barplot to visualize coupon column\n",
        "ratios.plot(kind='bar')\n",
        "plt.xlabel(\"Coupon Type\")\n",
        "plt.ylabel(\"Total Count\")\n",
        "plt.xticks(rotation=45)\n",
        "plt.title(\"Coupon Offerings by Type\")\n",
        "plt.show()"
      ],
      "metadata": {
        "colab": {
          "base_uri": "https://localhost:8080/",
          "height": 578
        },
        "id": "MVtQyRaWpbc6",
        "outputId": "668f4d76-5482-4ac9-f1a1-e42449495721"
      },
      "execution_count": 224,
      "outputs": [
        {
          "output_type": "display_data",
          "data": {
            "text/plain": [
              "<Figure size 640x480 with 1 Axes>"
            ],
            "image/png": "[encoded data removed]"
          },
          "metadata": {}
        }
      ]
    },
    {
      "cell_type": "code",
      "source": [
        "#try the same but by accepted subset\n",
        "ratios_accepted=accepted_all_coupons['coupon'].value_counts()\n",
        "print(ratios_accepted)\n",
        "sns.histplot(data=accepted_all_coupons, x='coupon', multiple='stack')\n",
        "plt.xlabel(\"Accepted Coupons\")\n",
        "plt.ylabel(\"Total Count\")\n",
        "plt.xticks(rotation=45)\n",
        "plt.title(\"Accepted Coupons by Coupon Type\")\n",
        "plt.show()"
      ],
      "metadata": {
        "colab": {
          "base_uri": "https://localhost:8080/",
          "height": 699
        },
        "id": "5pgCEnoQ9qKU",
        "outputId": "bfb67b38-e2fd-4f6b-884f-4982ee65ab7a"
      },
      "execution_count": 225,
      "outputs": [
        {
          "output_type": "stream",
          "name": "stdout",
          "text": [
            "coupon\n",
            "Coffee House             2024\n",
            "Carry out & Take away    1486\n",
            "Bar                      1305\n",
            "Restaurant(<20)          1208\n",
            "Restaurant(20-50)         921\n",
            "Name: count, dtype: int64\n"
          ]
        },
        {
          "output_type": "display_data",
          "data": {
            "text/plain": [
              "<Figure size 640x480 with 1 Axes>"
            ],
            "image/png": "[encoded data removed]"
          },
          "metadata": {}
        }
      ]
    },
    {
      "cell_type": "code",
      "source": [
        "#histplot showing coupons\n",
        "sns.histplot(data=data, x='coupon', hue='direction_same', multiple='stack')\n",
        "plt.xlabel(\"Types of Coupons Accepted\")\n",
        "plt.ylabel(\"Total Count\")\n",
        "plt.title(\"Coupon Acceptance by Type when Direction is the Same as Destination\")\n",
        "plt.xticks(rotation=45)\n",
        "plt.show()\n",
        "#change orientation of x-axis labels\n"
      ],
      "metadata": {
        "colab": {
          "base_uri": "https://localhost:8080/",
          "height": 578
        },
        "id": "Ga0eoHjRTenk",
        "outputId": "de9e8d97-7ebb-4978-89da-5dabd8c22ffe"
      },
      "execution_count": 226,
      "outputs": [
        {
          "output_type": "display_data",
          "data": {
            "text/plain": [
              "<Figure size 640x480 with 1 Axes>"
            ],
            "image/png": "[encoded data removed]"
          },
          "metadata": {}
        }
      ]
    },
    {
      "cell_type": "markdown",
      "metadata": {
        "id": "Qw4lCyx2_qRI"
      },
      "source": [
        "6. Use a histogram to visualize the temperature column."
      ]
    },
    {
      "cell_type": "code",
      "execution_count": 227,
      "metadata": {
        "id": "Yg9Anv71_qRI",
        "colab": {
          "base_uri": "https://localhost:8080/",
          "height": 472
        },
        "outputId": "1da4c175-44d4-4323-fa15-5ddb70377918"
      },
      "outputs": [
        {
          "output_type": "display_data",
          "data": {
            "text/plain": [
              "<Figure size 640x480 with 1 Axes>"
            ],
            "image/png": "[encoded data removed]"
          },
          "metadata": {}
        }
      ],
      "source": [
        "#histogram of temperature column\n",
        "ax=data['temperature'].hist(bins=10, density=True, stacked=True, color='green', alpha=0.6)\n",
        "data['temperature'].plot(kind='hist')\n",
        "plt.xlabel(\"Temperature (degrees)\")\n",
        "plt.ylabel(\"All Coupons\")\n",
        "plt.title(\"Temperature for All Coupons\")\n",
        "plt.show()"
      ]
    },
    {
      "cell_type": "code",
      "source": [
        "#histogram of temperature column for accepted coupons\n",
        "ax=accepted_all_coupons['temperature'].hist(bins=10, density=True, stacked=True, color='green', alpha=0.6)\n",
        "data['temperature'].plot(kind='hist')\n",
        "plt.xlabel(\"Temperature (degrees)\")\n",
        "plt.ylabel(\"Accepted Coupons\")\n",
        "plt.title(\"Temperature for All Accepted Coupons\")\n",
        "plt.show()"
      ],
      "metadata": {
        "colab": {
          "base_uri": "https://localhost:8080/",
          "height": 472
        },
        "id": "R5UUIJgK-1Ir",
        "outputId": "0686d941-0a75-4358-a6e1-71500f2501bf"
      },
      "execution_count": 228,
      "outputs": [
        {
          "output_type": "display_data",
          "data": {
            "text/plain": [
              "<Figure size 640x480 with 1 Axes>"
            ],
            "image/png": "[encoded data removed]"
          },
          "metadata": {}
        }
      ]
    },
    {
      "cell_type": "markdown",
      "metadata": {
        "id": "FupfgeJk_qRJ"
      },
      "source": [
        "**Investigating the Bar Coupons**\n",
        "\n",
        "Now, we will lead you through an exploration of just the bar related coupons.  \n",
        "\n",
        "1. Create a new `DataFrame` that contains just the bar coupons.\n"
      ]
    },
    {
      "cell_type": "code",
      "execution_count": 229,
      "metadata": {
        "id": "tMBlWuGq_qRJ",
        "colab": {
          "base_uri": "https://localhost:8080/",
          "height": 272
        },
        "outputId": "2737a2fc-2f0e-4ccb-9d73-22fdffcdc781"
      },
      "outputs": [
        {
          "output_type": "execute_result",
          "data": {
            "text/plain": [
              "coupon\n",
              "Coffee House             3888\n",
              "Restaurant(<20)          2714\n",
              "Carry out & Take away    2340\n",
              "Bar                      1963\n",
              "Restaurant(20-50)        1453\n",
              "Name: count, dtype: int64"
            ],
            "text/html": [
              "<div>\n",
              "<style scoped>\n",
              "    .dataframe tbody tr th:only-of-type {\n",
              "        vertical-align: middle;\n",
              "    }\n",
              "\n",
              "    .dataframe tbody tr th {\n",
              "        vertical-align: top;\n",
              "    }\n",
              "\n",
              "    .dataframe thead th {\n",
              "        text-align: right;\n",
              "    }\n",
              "</style>\n",
              "<table border=\"1\" class=\"dataframe\">\n",
              "  <thead>\n",
              "    <tr style=\"text-align: right;\">\n",
              "      <th></th>\n",
              "      <th>count</th>\n",
              "    </tr>\n",
              "    <tr>\n",
              "      <th>coupon</th>\n",
              "      <th></th>\n",
              "    </tr>\n",
              "  </thead>\n",
              "  <tbody>\n",
              "    <tr>\n",
              "      <th>Coffee House</th>\n",
              "      <td>3888</td>\n",
              "    </tr>\n",
              "    <tr>\n",
              "      <th>Restaurant(&lt;20)</th>\n",
              "      <td>2714</td>\n",
              "    </tr>\n",
              "    <tr>\n",
              "      <th>Carry out &amp; Take away</th>\n",
              "      <td>2340</td>\n",
              "    </tr>\n",
              "    <tr>\n",
              "      <th>Bar</th>\n",
              "      <td>1963</td>\n",
              "    </tr>\n",
              "    <tr>\n",
              "      <th>Restaurant(20-50)</th>\n",
              "      <td>1453</td>\n",
              "    </tr>\n",
              "  </tbody>\n",
              "</table>\n",
              "</div><br><label><b>dtype:</b> int64</label>"
            ]
          },
          "metadata": {},
          "execution_count": 229
        }
      ],
      "source": [
        "data['coupon'].value_counts()"
      ]
    },
    {
      "cell_type": "code",
      "execution_count": 230,
      "metadata": {
        "id": "hSdte8Mi_qRK",
        "colab": {
          "base_uri": "https://localhost:8080/",
          "height": 290
        },
        "outputId": "d885b507-58a6-446a-dfdc-59944131c3d2"
      },
      "outputs": [
        {
          "output_type": "execute_result",
          "data": {
            "text/plain": [
              "        destination  passenger weather  temperature  time coupon expiration  \\\n",
              "24  No Urgent Place  Friend(s)   Sunny           80  1000    Bar         1d   \n",
              "35             Home      Alone   Sunny           55  1800    Bar         1d   \n",
              "39             Work      Alone   Sunny           55   700    Bar         1d   \n",
              "46  No Urgent Place  Friend(s)   Sunny           80  1000    Bar         1d   \n",
              "57             Home      Alone   Sunny           55  1800    Bar         1d   \n",
              "\n",
              "   gender   age maritalStatus  ...  CarryAway RestaurantLessThan20  \\\n",
              "24   Male  21.0        Single  ...        4~8                  4~8   \n",
              "35   Male  21.0        Single  ...        4~8                  4~8   \n",
              "39   Male  21.0        Single  ...        4~8                  4~8   \n",
              "46   Male  46.0        Single  ...        1~3                  1~3   \n",
              "57   Male  46.0        Single  ...        1~3                  1~3   \n",
              "\n",
              "   Restaurant20To50 Coupon_5mins Coupon_15mins Coupon_25mins direction_same  \\\n",
              "24            less1            1             0             0              0   \n",
              "35            less1            1             0             0              1   \n",
              "39            less1            1             1             1              0   \n",
              "46            never            1             0             0              0   \n",
              "57            never            1             0             0              1   \n",
              "\n",
              "   direction_opp  Y  combined_coupons  \n",
              "24             1  1                 1  \n",
              "35             0  1                 1  \n",
              "39             1  1                 3  \n",
              "46             1  0                 1  \n",
              "57             0  0                 1  \n",
              "\n",
              "[5 rows x 26 columns]"
            ],
            "text/html": [
              "\n",
              "  <div id=\"df-05d6b5b1-5e8b-43f0-a321-44b83e0e9d2f\" class=\"colab-df-container\">\n",
              "    <div>\n",
              "<style scoped>\n",
              "    .dataframe tbody tr th:only-of-type {\n",
              "        vertical-align: middle;\n",
              "    }\n",
              "\n",
              "    .dataframe tbody tr th {\n",
              "        vertical-align: top;\n",
              "    }\n",
              "\n",
              "    .dataframe thead th {\n",
              "        text-align: right;\n",
              "    }\n",
              "</style>\n",
              "<table border=\"1\" class=\"dataframe\">\n",
              "  <thead>\n",
              "    <tr style=\"text-align: right;\">\n",
              "      <th></th>\n",
              "      <th>destination</th>\n",
              "      <th>passenger</th>\n",
              "      <th>weather</th>\n",
              "      <th>temperature</th>\n",
              "      <th>time</th>\n",
              "      <th>coupon</th>\n",
              "      <th>expiration</th>\n",
              "      <th>gender</th>\n",
              "      <th>age</th>\n",
              "      <th>maritalStatus</th>\n",
              "      <th>...</th>\n",
              "      <th>CarryAway</th>\n",
              "      <th>RestaurantLessThan20</th>\n",
              "      <th>Restaurant20To50</th>\n",
              "      <th>Coupon_5mins</th>\n",
              "      <th>Coupon_15mins</th>\n",
              "      <th>Coupon_25mins</th>\n",
              "      <th>direction_same</th>\n",
              "      <th>direction_opp</th>\n",
              "      <th>Y</th>\n",
              "      <th>combined_coupons</th>\n",
              "    </tr>\n",
              "  </thead>\n",
              "  <tbody>\n",
              "    <tr>\n",
              "      <th>24</th>\n",
              "      <td>No Urgent Place</td>\n",
              "      <td>Friend(s)</td>\n",
              "      <td>Sunny</td>\n",
              "      <td>80</td>\n",
              "      <td>1000</td>\n",
              "      <td>Bar</td>\n",
              "      <td>1d</td>\n",
              "      <td>Male</td>\n",
              "      <td>21.0</td>\n",
              "      <td>Single</td>\n",
              "      <td>...</td>\n",
              "      <td>4~8</td>\n",
              "      <td>4~8</td>\n",
              "      <td>less1</td>\n",
              "      <td>1</td>\n",
              "      <td>0</td>\n",
              "      <td>0</td>\n",
              "      <td>0</td>\n",
              "      <td>1</td>\n",
              "      <td>1</td>\n",
              "      <td>1</td>\n",
              "    </tr>\n",
              "    <tr>\n",
              "      <th>35</th>\n",
              "      <td>Home</td>\n",
              "      <td>Alone</td>\n",
              "      <td>Sunny</td>\n",
              "      <td>55</td>\n",
              "      <td>1800</td>\n",
              "      <td>Bar</td>\n",
              "      <td>1d</td>\n",
              "      <td>Male</td>\n",
              "      <td>21.0</td>\n",
              "      <td>Single</td>\n",
              "      <td>...</td>\n",
              "      <td>4~8</td>\n",
              "      <td>4~8</td>\n",
              "      <td>less1</td>\n",
              "      <td>1</td>\n",
              "      <td>0</td>\n",
              "      <td>0</td>\n",
              "      <td>1</td>\n",
              "      <td>0</td>\n",
              "      <td>1</td>\n",
              "      <td>1</td>\n",
              "    </tr>\n",
              "    <tr>\n",
              "      <th>39</th>\n",
              "      <td>Work</td>\n",
              "      <td>Alone</td>\n",
              "      <td>Sunny</td>\n",
              "      <td>55</td>\n",
              "      <td>700</td>\n",
              "      <td>Bar</td>\n",
              "      <td>1d</td>\n",
              "      <td>Male</td>\n",
              "      <td>21.0</td>\n",
              "      <td>Single</td>\n",
              "      <td>...</td>\n",
              "      <td>4~8</td>\n",
              "      <td>4~8</td>\n",
              "      <td>less1</td>\n",
              "      <td>1</td>\n",
              "      <td>1</td>\n",
              "      <td>1</td>\n",
              "      <td>0</td>\n",
              "      <td>1</td>\n",
              "      <td>1</td>\n",
              "      <td>3</td>\n",
              "    </tr>\n",
              "    <tr>\n",
              "      <th>46</th>\n",
              "      <td>No Urgent Place</td>\n",
              "      <td>Friend(s)</td>\n",
              "      <td>Sunny</td>\n",
              "      <td>80</td>\n",
              "      <td>1000</td>\n",
              "      <td>Bar</td>\n",
              "      <td>1d</td>\n",
              "      <td>Male</td>\n",
              "      <td>46.0</td>\n",
              "      <td>Single</td>\n",
              "      <td>...</td>\n",
              "      <td>1~3</td>\n",
              "      <td>1~3</td>\n",
              "      <td>never</td>\n",
              "      <td>1</td>\n",
              "      <td>0</td>\n",
              "      <td>0</td>\n",
              "      <td>0</td>\n",
              "      <td>1</td>\n",
              "      <td>0</td>\n",
              "      <td>1</td>\n",
              "    </tr>\n",
              "    <tr>\n",
              "      <th>57</th>\n",
              "      <td>Home</td>\n",
              "      <td>Alone</td>\n",
              "      <td>Sunny</td>\n",
              "      <td>55</td>\n",
              "      <td>1800</td>\n",
              "      <td>Bar</td>\n",
              "      <td>1d</td>\n",
              "      <td>Male</td>\n",
              "      <td>46.0</td>\n",
              "      <td>Single</td>\n",
              "      <td>...</td>\n",
              "      <td>1~3</td>\n",
              "      <td>1~3</td>\n",
              "      <td>never</td>\n",
              "      <td>1</td>\n",
              "      <td>0</td>\n",
              "      <td>0</td>\n",
              "      <td>1</td>\n",
              "      <td>0</td>\n",
              "      <td>0</td>\n",
              "      <td>1</td>\n",
              "    </tr>\n",
              "  </tbody>\n",
              "</table>\n",
              "<p>5 rows × 26 columns</p>\n",
              "</div>\n",
              "    <div class=\"colab-df-buttons\">\n",
              "\n",
              "  <div class=\"colab-df-container\">\n",
              "    <button class=\"colab-df-convert\" onclick=\"convertToInteractive('df-05d6b5b1-5e8b-43f0-a321-44b83e0e9d2f')\"\n",
              "            title=\"Convert this dataframe to an interactive table.\"\n",
              "            style=\"display:none;\">\n",
              "\n",
              "  <svg xmlns=\"http://www.w3.org/2000/svg\" height=\"24px\" viewBox=\"0 -960 960 960\">\n",
              "    <path d=\"M120-120v-720h720v720H120Zm60-500h600v-160H180v160Zm220 220h160v-160H400v160Zm0 220h160v-160H400v160ZM180-400h160v-160H180v160Zm440 0h160v-160H620v160ZM180-180h160v-160H180v160Zm440 0h160v-160H620v160Z\"/>\n",
              "  </svg>\n",
              "    </button>\n",
              "\n",
              "  <style>\n",
              "    .colab-df-container {\n",
              "      display:flex;\n",
              "      gap: 12px;\n",
              "    }\n",
              "\n",
              "    .colab-df-convert {\n",
              "      background-color: #E8F0FE;\n",
              "      border: none;\n",
              "      border-radius: 50%;\n",
              "      cursor: pointer;\n",
              "      display: none;\n",
              "      fill: #1967D2;\n",
              "      height: 32px;\n",
              "      padding: 0 0 0 0;\n",
              "      width: 32px;\n",
              "    }\n",
              "\n",
              "    .colab-df-convert:hover {\n",
              "      background-color: #E2EBFA;\n",
              "      box-shadow: 0px 1px 2px rgba(60, 64, 67, 0.3), 0px 1px 3px 1px rgba(60, 64, 67, 0.15);\n",
              "      fill: #174EA6;\n",
              "    }\n",
              "\n",
              "    .colab-df-buttons div {\n",
              "      margin-bottom: 4px;\n",
              "    }\n",
              "\n",
              "    [theme=dark] .colab-df-convert {\n",
              "      background-color: #3B4455;\n",
              "      fill: #D2E3FC;\n",
              "    }\n",
              "\n",
              "    [theme=dark] .colab-df-convert:hover {\n",
              "      background-color: #434B5C;\n",
              "      box-shadow: 0px 1px 3px 1px rgba(0, 0, 0, 0.15);\n",
              "      filter: drop-shadow(0px 1px 2px rgba(0, 0, 0, 0.3));\n",
              "      fill: #FFFFFF;\n",
              "    }\n",
              "  </style>\n",
              "\n",
              "    <script>\n",
              "      const buttonEl =\n",
              "        document.querySelector('#df-05d6b5b1-5e8b-43f0-a321-44b83e0e9d2f button.colab-df-convert');\n",
              "      buttonEl.style.display =\n",
              "        google.colab.kernel.accessAllowed ? 'block' : 'none';\n",
              "\n",
              "      async function convertToInteractive(key) {\n",
              "        const element = document.querySelector('#df-05d6b5b1-5e8b-43f0-a321-44b83e0e9d2f');\n",
              "        const dataTable =\n",
              "          await google.colab.kernel.invokeFunction('convertToInteractive',\n",
              "                                                    [key], {});\n",
              "        if (!dataTable) return;\n",
              "\n",
              "        const docLinkHtml = 'Like what you see? Visit the ' +\n",
              "          '<a target=\"_blank\" href=https://colab.research.google.com/notebooks/data_table.ipynb>data table notebook</a>'\n",
              "          + ' to learn more about interactive tables.';\n",
              "        element.innerHTML = '';\n",
              "        dataTable['output_type'] = 'display_data';\n",
              "        await google.colab.output.renderOutput(dataTable, element);\n",
              "        const docLink = document.createElement('div');\n",
              "        docLink.innerHTML = docLinkHtml;\n",
              "        element.appendChild(docLink);\n",
              "      }\n",
              "    </script>\n",
              "  </div>\n",
              "\n",
              "\n",
              "<div id=\"df-601151ac-1cf4-49c3-bfa3-3ffc6953528f\">\n",
              "  <button class=\"colab-df-quickchart\" onclick=\"quickchart('df-601151ac-1cf4-49c3-bfa3-3ffc6953528f')\"\n",
              "            title=\"Suggest charts\"\n",
              "            style=\"display:none;\">\n",
              "\n",
              "<svg xmlns=\"http://www.w3.org/2000/svg\" height=\"24px\"viewBox=\"0 0 24 24\"\n",
              "     width=\"24px\">\n",
              "    <g>\n",
              "        <path d=\"M19 3H5c-1.1 0-2 .9-2 2v14c0 1.1.9 2 2 2h14c1.1 0 2-.9 2-2V5c0-1.1-.9-2-2-2zM9 17H7v-7h2v7zm4 0h-2V7h2v10zm4 0h-2v-4h2v4z\"/>\n",
              "    </g>\n",
              "</svg>\n",
              "  </button>\n",
              "\n",
              "<style>\n",
              "  .colab-df-quickchart {\n",
              "      --bg-color: #E8F0FE;\n",
              "      --fill-color: #1967D2;\n",
              "      --hover-bg-color: #E2EBFA;\n",
              "      --hover-fill-color: #174EA6;\n",
              "      --disabled-fill-color: #AAA;\n",
              "      --disabled-bg-color: #DDD;\n",
              "  }\n",
              "\n",
              "  [theme=dark] .colab-df-quickchart {\n",
              "      --bg-color: #3B4455;\n",
              "      --fill-color: #D2E3FC;\n",
              "      --hover-bg-color: #434B5C;\n",
              "      --hover-fill-color: #FFFFFF;\n",
              "      --disabled-bg-color: #3B4455;\n",
              "      --disabled-fill-color: #666;\n",
              "  }\n",
              "\n",
              "  .colab-df-quickchart {\n",
              "    background-color: var(--bg-color);\n",
              "    border: none;\n",
              "    border-radius: 50%;\n",
              "    cursor: pointer;\n",
              "    display: none;\n",
              "    fill: var(--fill-color);\n",
              "    height: 32px;\n",
              "    padding: 0;\n",
              "    width: 32px;\n",
              "  }\n",
              "\n",
              "  .colab-df-quickchart:hover {\n",
              "    background-color: var(--hover-bg-color);\n",
              "    box-shadow: 0 1px 2px rgba(60, 64, 67, 0.3), 0 1px 3px 1px rgba(60, 64, 67, 0.15);\n",
              "    fill: var(--button-hover-fill-color);\n",
              "  }\n",
              "\n",
              "  .colab-df-quickchart-complete:disabled,\n",
              "  .colab-df-quickchart-complete:disabled:hover {\n",
              "    background-color: var(--disabled-bg-color);\n",
              "    fill: var(--disabled-fill-color);\n",
              "    box-shadow: none;\n",
              "  }\n",
              "\n",
              "  .colab-df-spinner {\n",
              "    border: 2px solid var(--fill-color);\n",
              "    border-color: transparent;\n",
              "    border-bottom-color: var(--fill-color);\n",
              "    animation:\n",
              "      spin 1s steps(1) infinite;\n",
              "  }\n",
              "\n",
              "  @keyframes spin {\n",
              "    0% {\n",
              "      border-color: transparent;\n",
              "      border-bottom-color: var(--fill-color);\n",
              "      border-left-color: var(--fill-color);\n",
              "    }\n",
              "    20% {\n",
              "      border-color: transparent;\n",
              "      border-left-color: var(--fill-color);\n",
              "      border-top-color: var(--fill-color);\n",
              "    }\n",
              "    30% {\n",
              "      border-color: transparent;\n",
              "      border-left-color: var(--fill-color);\n",
              "      border-top-color: var(--fill-color);\n",
              "      border-right-color: var(--fill-color);\n",
              "    }\n",
              "    40% {\n",
              "      border-color: transparent;\n",
              "      border-right-color: var(--fill-color);\n",
              "      border-top-color: var(--fill-color);\n",
              "    }\n",
              "    60% {\n",
              "      border-color: transparent;\n",
              "      border-right-color: var(--fill-color);\n",
              "    }\n",
              "    80% {\n",
              "      border-color: transparent;\n",
              "      border-right-color: var(--fill-color);\n",
              "      border-bottom-color: var(--fill-color);\n",
              "    }\n",
              "    90% {\n",
              "      border-color: transparent;\n",
              "      border-bottom-color: var(--fill-color);\n",
              "    }\n",
              "  }\n",
              "</style>\n",
              "\n",
              "  <script>\n",
              "    async function quickchart(key) {\n",
              "      const quickchartButtonEl =\n",
              "        document.querySelector('#' + key + ' button');\n",
              "      quickchartButtonEl.disabled = true;  // To prevent multiple clicks.\n",
              "      quickchartButtonEl.classList.add('colab-df-spinner');\n",
              "      try {\n",
              "        const charts = await google.colab.kernel.invokeFunction(\n",
              "            'suggestCharts', [key], {});\n",
              "      } catch (error) {\n",
              "        console.error('Error during call to suggestCharts:', error);\n",
              "      }\n",
              "      quickchartButtonEl.classList.remove('colab-df-spinner');\n",
              "      quickchartButtonEl.classList.add('colab-df-quickchart-complete');\n",
              "    }\n",
              "    (() => {\n",
              "      let quickchartButtonEl =\n",
              "        document.querySelector('#df-601151ac-1cf4-49c3-bfa3-3ffc6953528f button');\n",
              "      quickchartButtonEl.style.display =\n",
              "        google.colab.kernel.accessAllowed ? 'block' : 'none';\n",
              "    })();\n",
              "  </script>\n",
              "</div>\n",
              "\n",
              "    </div>\n",
              "  </div>\n"
            ],
            "application/vnd.google.colaboratory.intrinsic+json": {
              "type": "dataframe",
              "variable_name": "bar_coupon"
            }
          },
          "metadata": {},
          "execution_count": 230
        }
      ],
      "source": [
        "#new dataframe where coupon is bar\n",
        "bar_coupon=data[data['coupon']=='Bar']\n",
        "bar_coupon.head()"
      ]
    },
    {
      "cell_type": "code",
      "source": [],
      "metadata": {
        "id": "Pmypi_fifrIW"
      },
      "execution_count": 230,
      "outputs": []
    },
    {
      "cell_type": "markdown",
      "metadata": {
        "id": "8ue6uCqf_qRJ"
      },
      "source": [
        "2. What proportion of bar coupons were accepted?\n"
      ]
    },
    {
      "cell_type": "code",
      "source": [
        "\n",
        "#bar acceptance rate where combined_coupon is 1\n",
        "# Calculate acceptance rate for bar coupons\n",
        "accepted_bar_coupons = bar_coupon[(bar_coupon['Coupon_5mins'] == 1) |\n",
        "                                 (bar_coupon['Coupon_15mins'] == 1) |\n",
        "                                 (bar_coupon['Coupon_25mins'] == 1)]\n",
        "# Get the number of accepted bar coupons\n",
        "num_accepted_bar_coupons = len(accepted_bar_coupons)\n",
        "\n",
        "# Calculate the acceptance rate\n",
        "bar_coupon_acceptance_rate = num_accepted_bar_coupons / len(bar_coupon)\n",
        "\n",
        "# Print the acceptance rate\n",
        "print(f\"Proportion of bar coupons accepted once: {bar_coupon_acceptance_rate:.2f}\")"
      ],
      "metadata": {
        "colab": {
          "base_uri": "https://localhost:8080/"
        },
        "id": "9FfUC3Sv0dDQ",
        "outputId": "10f11e35-fbdb-4a0b-8ffd-0972904a447b"
      },
      "execution_count": 231,
      "outputs": [
        {
          "output_type": "stream",
          "name": "stdout",
          "text": [
            "Proportion of bar coupons accepted once: 1.00\n"
          ]
        }
      ]
    },
    {
      "cell_type": "markdown",
      "source": [
        "The code above just demonstrates that all bar coupons were accepted once.  In fact, all coupons were accepted once at the Coupon_5min offering.  That means we need to look at only the subset of bar coupons accepted 3 times."
      ],
      "metadata": {
        "id": "uBL0uWAskRgo"
      }
    },
    {
      "cell_type": "code",
      "source": [
        "\n",
        "#now we will calculate the percent that were accepted three times\n",
        "accepted_bar_coupons_all = bar_coupon[(bar_coupon['combined_coupons'] == 3)]\n",
        "# Get the number of accepted bar coupons\n",
        "num_accepted_bar_coupons_all = len(accepted_bar_coupons_all)\n",
        "\n",
        "# Calculate the acceptance rate\n",
        "bar_coupon_acceptance_rate_three = num_accepted_bar_coupons_all / len(bar_coupon)\n",
        "print(f\"Proportion of bar coupons accepted 3 times: {bar_coupon_acceptance_rate_three:.2f}\")"
      ],
      "metadata": {
        "colab": {
          "base_uri": "https://localhost:8080/"
        },
        "id": "WrqrWvuyjlh_",
        "outputId": "ab0c8b29-0c49-405c-ffee-5d5ecc0db948"
      },
      "execution_count": 233,
      "outputs": [
        {
          "output_type": "stream",
          "name": "stdout",
          "text": [
            "Proportion of bar coupons accepted 3 times: 0.66\n"
          ]
        }
      ]
    },
    {
      "cell_type": "markdown",
      "metadata": {
        "id": "85nA_iEi_qRK"
      },
      "source": [
        "3. Compare the acceptance rate between those who went to a bar 3 or fewer times a month to those who went more.\n"
      ]
    },
    {
      "cell_type": "code",
      "source": [
        "#for proportion, i need those low drinkers who accepted\n",
        "#divided by the population of low drinkers overall\n",
        "total_low_drinkers=bar_coupon[(bar_coupon['Bar']=='1~3') |\n",
        "                       (bar_coupon['Bar']==\"never\")|\n",
        "                       (bar_coupon['Bar']==\"less1\")]\n",
        "print(\"The total number of low drinkers is\", len(total_low_drinkers))"
      ],
      "metadata": {
        "colab": {
          "base_uri": "https://localhost:8080/"
        },
        "id": "Mi7eh1STTZZp",
        "outputId": "f48d8d79-631f-4585-8586-d2627a6bdac4"
      },
      "execution_count": 174,
      "outputs": [
        {
          "output_type": "stream",
          "name": "stdout",
          "text": [
            "The total number of low drinkers is 1770\n"
          ]
        }
      ]
    },
    {
      "cell_type": "code",
      "execution_count": 175,
      "metadata": {
        "id": "LBOrN-XM_qRK",
        "colab": {
          "base_uri": "https://localhost:8080/"
        },
        "outputId": "45ea22fa-2d58-4d77-f22e-b4278fe6e792"
      },
      "outputs": [
        {
          "output_type": "stream",
          "name": "stdout",
          "text": [
            "1585\n",
            "1770\n",
            "Proportion of low drinkers accepting bar coupon: 0.90\n"
          ]
        }
      ],
      "source": [
        "#proportion of low drinkers who accepted\n",
        "three_x_bar=bar_coupon[(bar_coupon['Bar']=='1~3') |\n",
        "                       (bar_coupon['Bar']==\"never\")|\n",
        "                       (bar_coupon['Bar']==\"less1\") &\n",
        "                       (bar_coupon['combined_coupons'] == 3)]\n",
        "three_x_bar_acceptance_rate = len(three_x_bar) / len(total_low_drinkers)\n",
        "print(len(three_x_bar))\n",
        "print(len(total_low_drinkers))\n",
        "print(f\"Proportion of low drinkers accepting bar coupon: {three_x_bar_acceptance_rate:.2f}\")\n"
      ]
    },
    {
      "cell_type": "code",
      "source": [
        "#now the same for heavy drinkers\n",
        "#heavy drinkers who accepted\n",
        "#divided by the population of heavy drinkers who accepted\n",
        "bar_coupon['Bar'].value_counts()\n",
        "pop_drinkers4=len(bar_coupon['Bar']=='4~8')\n",
        "pop_drinkers8=len(bar_coupon['Bar']==\"gt8\")\n",
        "pop_heavy_drinkers = (pop_drinkers4 + pop_drinkers8)\n",
        "print(pop_heavy_drinkers)\n"
      ],
      "metadata": {
        "colab": {
          "base_uri": "https://localhost:8080/"
        },
        "id": "EKUQmuXWOWee",
        "outputId": "32235cce-987a-419d-e636-d12ab1e78218"
      },
      "execution_count": 176,
      "outputs": [
        {
          "output_type": "stream",
          "name": "stdout",
          "text": [
            "3926\n"
          ]
        }
      ]
    },
    {
      "cell_type": "code",
      "source": [
        "#those heavy drinkers who accepted coupon more than 3 times\n",
        "three_m_bar=bar_coupon[(bar_coupon['Bar']=='4~8')|\n",
        "              (bar_coupon['Bar']==\"gt8\") &\n",
        "              (bar_coupon['combined_coupons']==3)]\n",
        "three_m_bar_acceptance_rate = len(three_m_bar) / pop_heavy_drinkers\n",
        "print(len(three_m_bar))\n",
        "print(pop_heavy_drinkers)\n",
        "\n",
        "\n",
        "print(f\"Proportion of frequent bar visitors bar coupons accepted: {three_m_bar_acceptance_rate:.2f}\")"
      ],
      "metadata": {
        "colab": {
          "base_uri": "https://localhost:8080/"
        },
        "id": "JorRRL9z8Wfg",
        "outputId": "3b33ae0b-71da-4784-be67-3669a2e0af85"
      },
      "execution_count": 177,
      "outputs": [
        {
          "output_type": "stream",
          "name": "stdout",
          "text": [
            "176\n",
            "3926\n",
            "Proportion of frequent bar visitors bar coupons accepted: 0.04\n"
          ]
        }
      ]
    },
    {
      "cell_type": "markdown",
      "source": [
        "I can interpret the low proportion of only 11 percent of drivers who frequent bars more then 4 times/month and accepted the coupon demonstrates that frequency of customer habits is not necessarily a driver for accepting the coupon.  Those who frequented bars less frequently accepted the coupon at 90%.  While this seems counterintuitive, it could be because those who like to drink are more picky about their bars."
      ],
      "metadata": {
        "id": "Iwx-BubCl3Q2"
      }
    },
    {
      "cell_type": "markdown",
      "metadata": {
        "id": "RBgcQwH4_qRK"
      },
      "source": [
        "4. Compare the acceptance rate between drivers who go to a bar more than once a month and are over the age of 25 to the all others.  Is there a difference?\n"
      ]
    },
    {
      "cell_type": "code",
      "execution_count": 295,
      "metadata": {
        "id": "bf28bbeX_qRK",
        "colab": {
          "base_uri": "https://localhost:8080/"
        },
        "outputId": "e9e031fd-69ff-4afe-d97b-5157806612c5"
      },
      "outputs": [
        {
          "output_type": "stream",
          "name": "stdout",
          "text": [
            "228\n",
            "1963\n",
            "Proportion of bar coupons accepted by bar frequenting drivers over 25: 0.30\n"
          ]
        }
      ],
      "source": [
        "#acceptance rate for drivers who go to bar more than once a month over 25\n",
        "#again, i'm using the 3 times acceptance to differentiate\n",
        "driver_h=bar_coupon[(bar_coupon['Bar']=='1~3') |\n",
        "              (bar_coupon['Bar']==\"4~8\") |\n",
        "              (bar_coupon['Bar']==\"gt8\")]\n",
        "driver_h_old=driver_h[(driver_h['age'] > 25) & (driver_h['combined_coupons']==3)]\n",
        "print(len(driver_h_old))\n",
        "print(len(bar_coupon))\n",
        "\n",
        "print(f\"Proportion of bar coupons accepted by bar frequenting drivers over 25: {driver_acceptance_rate:.2f}\")"
      ]
    },
    {
      "cell_type": "markdown",
      "source": [
        "This means that most of the frequent bar visiting drivers who accepted the coupon were over 25 years of age"
      ],
      "metadata": {
        "id": "nJwzuVxPm9jm"
      }
    },
    {
      "cell_type": "code",
      "source": [
        "#acceptance rate for drivers who go to bar more than once a month under 25\n",
        "driver_h_young=driver_h[(driver_h['age'] < 25) & (driver_h['combined_coupons']==3)]\n",
        "driver_h_young_acceptance_rate = len(driver_h_young) / len(bar_coupon)\n",
        "print(driver_h_young_acceptance_rate)\n",
        "print(len(bar_coupon))\n",
        "\n",
        "print(f\"Proportion of bar coupons accepted by younger drivers who frequent bars: {driver_h_young_acceptance_rate:.2f}\")"
      ],
      "metadata": {
        "colab": {
          "base_uri": "https://localhost:8080/"
        },
        "id": "lVlsPmaT_3tz",
        "outputId": "c44cfecd-98ab-4b96-a1d4-e376d85189e0"
      },
      "execution_count": 294,
      "outputs": [
        {
          "output_type": "stream",
          "name": "stdout",
          "text": [
            "0.05196128374936322\n",
            "1963\n",
            "Proportion of bar coupons accepted by younger drivers who frequent bars: 0.05\n"
          ]
        }
      ]
    },
    {
      "cell_type": "markdown",
      "source": [
        "The results showed that for the population of those who frequented bars at least 4 times per month, the coupon was accepted 30% of the time when the driver was over 25\n",
        "and only 5% of the time when the driver was under 25."
      ],
      "metadata": {
        "id": "TMLj_F-vyWnA"
      }
    },
    {
      "cell_type": "markdown",
      "metadata": {
        "id": "S4RKT4PJ_qRK"
      },
      "source": [
        "5. Use the same process to compare the acceptance rate between drivers who go to bars more than once a month and had passengers that were not a kid and had occupations other than farming, fishing, or forestry.\n"
      ]
    },
    {
      "cell_type": "code",
      "source": [
        "data['passenger'].value_counts()"
      ],
      "metadata": {
        "colab": {
          "base_uri": "https://localhost:8080/",
          "height": 241
        },
        "id": "Qfiz5AOyA0XC",
        "outputId": "f2354660-d384-4cf5-f932-09cfdcce01f7"
      },
      "execution_count": 180,
      "outputs": [
        {
          "output_type": "execute_result",
          "data": {
            "text/plain": [
              "passenger\n",
              "Alone        7149\n",
              "Friend(s)    3204\n",
              "Partner      1031\n",
              "Kid(s)        974\n",
              "Name: count, dtype: int64"
            ],
            "text/html": [
              "<div>\n",
              "<style scoped>\n",
              "    .dataframe tbody tr th:only-of-type {\n",
              "        vertical-align: middle;\n",
              "    }\n",
              "\n",
              "    .dataframe tbody tr th {\n",
              "        vertical-align: top;\n",
              "    }\n",
              "\n",
              "    .dataframe thead th {\n",
              "        text-align: right;\n",
              "    }\n",
              "</style>\n",
              "<table border=\"1\" class=\"dataframe\">\n",
              "  <thead>\n",
              "    <tr style=\"text-align: right;\">\n",
              "      <th></th>\n",
              "      <th>count</th>\n",
              "    </tr>\n",
              "    <tr>\n",
              "      <th>passenger</th>\n",
              "      <th></th>\n",
              "    </tr>\n",
              "  </thead>\n",
              "  <tbody>\n",
              "    <tr>\n",
              "      <th>Alone</th>\n",
              "      <td>7149</td>\n",
              "    </tr>\n",
              "    <tr>\n",
              "      <th>Friend(s)</th>\n",
              "      <td>3204</td>\n",
              "    </tr>\n",
              "    <tr>\n",
              "      <th>Partner</th>\n",
              "      <td>1031</td>\n",
              "    </tr>\n",
              "    <tr>\n",
              "      <th>Kid(s)</th>\n",
              "      <td>974</td>\n",
              "    </tr>\n",
              "  </tbody>\n",
              "</table>\n",
              "</div><br><label><b>dtype:</b> int64</label>"
            ]
          },
          "metadata": {},
          "execution_count": 180
        }
      ]
    },
    {
      "cell_type": "code",
      "source": [
        "data['occupation'].value_counts()\n"
      ],
      "metadata": {
        "colab": {
          "base_uri": "https://localhost:8080/",
          "height": 899
        },
        "id": "Mr85gyBTBs_Z",
        "outputId": "bea30678-6982-4d98-b73c-91f5cd014850"
      },
      "execution_count": 181,
      "outputs": [
        {
          "output_type": "execute_result",
          "data": {
            "text/plain": [
              "occupation\n",
              "Unemployed                                   1814\n",
              "Student                                      1563\n",
              "Computer & Mathematical                      1368\n",
              "Sales & Related                              1072\n",
              "Education&Training&Library                    899\n",
              "Management                                    810\n",
              "Office & Administrative Support               617\n",
              "Arts Design Entertainment Sports & Media      607\n",
              "Business & Financial                          538\n",
              "Retired                                       495\n",
              "Food Preparation & Serving Related            298\n",
              "Healthcare Support                            242\n",
              "Healthcare Practitioners & Technical          222\n",
              "Legal                                         219\n",
              "Community & Social Services                   219\n",
              "Transportation & Material Moving              218\n",
              "Protective Service                            175\n",
              "Architecture & Engineering                    175\n",
              "Life Physical Social Science                  170\n",
              "Construction & Extraction                     154\n",
              "Personal Care & Service                       153\n",
              "Installation Maintenance & Repair             133\n",
              "Production Occupations                        110\n",
              "Building & Grounds Cleaning & Maintenance      44\n",
              "Farming Fishing & Forestry                     43\n",
              "Name: count, dtype: int64"
            ],
            "text/html": [
              "<div>\n",
              "<style scoped>\n",
              "    .dataframe tbody tr th:only-of-type {\n",
              "        vertical-align: middle;\n",
              "    }\n",
              "\n",
              "    .dataframe tbody tr th {\n",
              "        vertical-align: top;\n",
              "    }\n",
              "\n",
              "    .dataframe thead th {\n",
              "        text-align: right;\n",
              "    }\n",
              "</style>\n",
              "<table border=\"1\" class=\"dataframe\">\n",
              "  <thead>\n",
              "    <tr style=\"text-align: right;\">\n",
              "      <th></th>\n",
              "      <th>count</th>\n",
              "    </tr>\n",
              "    <tr>\n",
              "      <th>occupation</th>\n",
              "      <th></th>\n",
              "    </tr>\n",
              "  </thead>\n",
              "  <tbody>\n",
              "    <tr>\n",
              "      <th>Unemployed</th>\n",
              "      <td>1814</td>\n",
              "    </tr>\n",
              "    <tr>\n",
              "      <th>Student</th>\n",
              "      <td>1563</td>\n",
              "    </tr>\n",
              "    <tr>\n",
              "      <th>Computer &amp; Mathematical</th>\n",
              "      <td>1368</td>\n",
              "    </tr>\n",
              "    <tr>\n",
              "      <th>Sales &amp; Related</th>\n",
              "      <td>1072</td>\n",
              "    </tr>\n",
              "    <tr>\n",
              "      <th>Education&amp;Training&amp;Library</th>\n",
              "      <td>899</td>\n",
              "    </tr>\n",
              "    <tr>\n",
              "      <th>Management</th>\n",
              "      <td>810</td>\n",
              "    </tr>\n",
              "    <tr>\n",
              "      <th>Office &amp; Administrative Support</th>\n",
              "      <td>617</td>\n",
              "    </tr>\n",
              "    <tr>\n",
              "      <th>Arts Design Entertainment Sports &amp; Media</th>\n",
              "      <td>607</td>\n",
              "    </tr>\n",
              "    <tr>\n",
              "      <th>Business &amp; Financial</th>\n",
              "      <td>538</td>\n",
              "    </tr>\n",
              "    <tr>\n",
              "      <th>Retired</th>\n",
              "      <td>495</td>\n",
              "    </tr>\n",
              "    <tr>\n",
              "      <th>Food Preparation &amp; Serving Related</th>\n",
              "      <td>298</td>\n",
              "    </tr>\n",
              "    <tr>\n",
              "      <th>Healthcare Support</th>\n",
              "      <td>242</td>\n",
              "    </tr>\n",
              "    <tr>\n",
              "      <th>Healthcare Practitioners &amp; Technical</th>\n",
              "      <td>222</td>\n",
              "    </tr>\n",
              "    <tr>\n",
              "      <th>Legal</th>\n",
              "      <td>219</td>\n",
              "    </tr>\n",
              "    <tr>\n",
              "      <th>Community &amp; Social Services</th>\n",
              "      <td>219</td>\n",
              "    </tr>\n",
              "    <tr>\n",
              "      <th>Transportation &amp; Material Moving</th>\n",
              "      <td>218</td>\n",
              "    </tr>\n",
              "    <tr>\n",
              "      <th>Protective Service</th>\n",
              "      <td>175</td>\n",
              "    </tr>\n",
              "    <tr>\n",
              "      <th>Architecture &amp; Engineering</th>\n",
              "      <td>175</td>\n",
              "    </tr>\n",
              "    <tr>\n",
              "      <th>Life Physical Social Science</th>\n",
              "      <td>170</td>\n",
              "    </tr>\n",
              "    <tr>\n",
              "      <th>Construction &amp; Extraction</th>\n",
              "      <td>154</td>\n",
              "    </tr>\n",
              "    <tr>\n",
              "      <th>Personal Care &amp; Service</th>\n",
              "      <td>153</td>\n",
              "    </tr>\n",
              "    <tr>\n",
              "      <th>Installation Maintenance &amp; Repair</th>\n",
              "      <td>133</td>\n",
              "    </tr>\n",
              "    <tr>\n",
              "      <th>Production Occupations</th>\n",
              "      <td>110</td>\n",
              "    </tr>\n",
              "    <tr>\n",
              "      <th>Building &amp; Grounds Cleaning &amp; Maintenance</th>\n",
              "      <td>44</td>\n",
              "    </tr>\n",
              "    <tr>\n",
              "      <th>Farming Fishing &amp; Forestry</th>\n",
              "      <td>43</td>\n",
              "    </tr>\n",
              "  </tbody>\n",
              "</table>\n",
              "</div><br><label><b>dtype:</b> int64</label>"
            ]
          },
          "metadata": {},
          "execution_count": 181
        }
      ]
    },
    {
      "cell_type": "code",
      "source": [
        "#calculate drivers who frequent bars more than 3xmonth, no kids as passengers\n",
        "#did not work in forestry\n",
        "no_passenger_driver=driver_h[(driver_h['passenger']!=\"Kid(s)\") &\n",
        " (driver_h['occupation'] !=\"Farming Fishing & Forestry\") &\n",
        "                       (driver_h['combined_coupons']==3)]\n",
        "\n",
        "no_passenger_driver_acceptance_rate = len(no_passenger_driver) / len(bar_coupon)\n",
        "print(len(bar_coupon))\n",
        "\n",
        "print(f\"Accepted by drivers who frequent bars, passengers not kids, working not farming, fishing and forestry: {passenger_driver_acceptance_rate:.2f}\")\n",
        ""
      ],
      "metadata": {
        "colab": {
          "base_uri": "https://localhost:8080/"
        },
        "id": "WeVXh-zay545",
        "outputId": "7deb2a4f-03f0-4189-9f00-10d36be8a48a"
      },
      "execution_count": 304,
      "outputs": [
        {
          "output_type": "stream",
          "name": "stdout",
          "text": [
            "1963\n",
            "Proportion accepted 3x by drivers who frequent bars, passengers not kids, working farming, fishing and forestry: 0.71\n"
          ]
        }
      ]
    },
    {
      "cell_type": "markdown",
      "metadata": {
        "id": "n2LIUTil_qRK"
      },
      "source": [
        "6. Compare the acceptance rates between those drivers who:\n",
        "\n",
        "- go to bars more than once a month, had passengers that were not a kid, and were not widowed *OR*\n",
        "- go to bars more than once a month and are under the age of 30 *OR*\n",
        "- go to cheap restaurants more than 4 times a month and income is less than 50K.\n",
        "\n"
      ]
    },
    {
      "cell_type": "code",
      "source": [
        "data['maritalStatus'].value_counts()"
      ],
      "metadata": {
        "colab": {
          "base_uri": "https://localhost:8080/",
          "height": 272
        },
        "id": "DyDwNP7HDKV_",
        "outputId": "f86b5109-f91f-4179-a22c-598b46ae3e2d"
      },
      "execution_count": 183,
      "outputs": [
        {
          "output_type": "execute_result",
          "data": {
            "text/plain": [
              "maritalStatus\n",
              "Married partner      4935\n",
              "Single               4675\n",
              "Unmarried partner    2114\n",
              "Divorced              504\n",
              "Widowed               130\n",
              "Name: count, dtype: int64"
            ],
            "text/html": [
              "<div>\n",
              "<style scoped>\n",
              "    .dataframe tbody tr th:only-of-type {\n",
              "        vertical-align: middle;\n",
              "    }\n",
              "\n",
              "    .dataframe tbody tr th {\n",
              "        vertical-align: top;\n",
              "    }\n",
              "\n",
              "    .dataframe thead th {\n",
              "        text-align: right;\n",
              "    }\n",
              "</style>\n",
              "<table border=\"1\" class=\"dataframe\">\n",
              "  <thead>\n",
              "    <tr style=\"text-align: right;\">\n",
              "      <th></th>\n",
              "      <th>count</th>\n",
              "    </tr>\n",
              "    <tr>\n",
              "      <th>maritalStatus</th>\n",
              "      <th></th>\n",
              "    </tr>\n",
              "  </thead>\n",
              "  <tbody>\n",
              "    <tr>\n",
              "      <th>Married partner</th>\n",
              "      <td>4935</td>\n",
              "    </tr>\n",
              "    <tr>\n",
              "      <th>Single</th>\n",
              "      <td>4675</td>\n",
              "    </tr>\n",
              "    <tr>\n",
              "      <th>Unmarried partner</th>\n",
              "      <td>2114</td>\n",
              "    </tr>\n",
              "    <tr>\n",
              "      <th>Divorced</th>\n",
              "      <td>504</td>\n",
              "    </tr>\n",
              "    <tr>\n",
              "      <th>Widowed</th>\n",
              "      <td>130</td>\n",
              "    </tr>\n",
              "  </tbody>\n",
              "</table>\n",
              "</div><br><label><b>dtype:</b> int64</label>"
            ]
          },
          "metadata": {},
          "execution_count": 183
        }
      ]
    },
    {
      "cell_type": "code",
      "source": [
        "no_passenger_driver_not_widow=driver_h[(driver_h['passenger']!=\"Kid(s)\") &\n",
        " (driver_h['maritalStatus'] !=\"Widowed\") &\n",
        "                       (driver_h['combined_coupons']==3)]\n",
        "\n",
        "no_passenger_driver_not_widow_acceptance_rate = len(no_passenger_driver_not_widow) / len(bar_coupon)\n",
        "print(len(bar_coupon))\n",
        "\n",
        "print(f\"Accepted by drivers who frequent bars, passengers not kids, working not farming, fishing and forestry: {no_passenger_driver_not_widow_acceptance_rate:.2f}\")"
      ],
      "metadata": {
        "colab": {
          "base_uri": "https://localhost:8080/"
        },
        "id": "Bb_YZOYf6n0D",
        "outputId": "68d1824c-ef65-434c-8a38-f8611325c211"
      },
      "execution_count": 310,
      "outputs": [
        {
          "output_type": "stream",
          "name": "stdout",
          "text": [
            "1963\n",
            "Accepted by drivers who frequent bars, passengers not kids, working not farming, fishing and forestry: 0.17\n"
          ]
        }
      ]
    },
    {
      "cell_type": "code",
      "source": [
        "#go to bars more than once a month and are under the age of 30\n",
        "under_thirty_driver=driver_h[(driver_h['age'] < 30)&\n",
        "                       (driver_h['combined_coupons']==3)]\n",
        "\n",
        "under_thirty_driver_acceptance_rate = len(under_thirty_driver) / len(bar_coupon)\n",
        "print(len(bar_coupon))\n",
        "print(f\"Accepted by drivers who frequent bars, under 30: {under_thirty_driver_acceptance_rate:.2f}\")"
      ],
      "metadata": {
        "colab": {
          "base_uri": "https://localhost:8080/"
        },
        "id": "0SgjnAC3D_Hw",
        "outputId": "e948c4f7-7c07-4ac1-b92d-8fa3a104bb32"
      },
      "execution_count": 316,
      "outputs": [
        {
          "output_type": "stream",
          "name": "stdout",
          "text": [
            "1963\n",
            "Accepted by drivers who frequent bars, under 30: 0.10\n"
          ]
        }
      ]
    },
    {
      "cell_type": "code",
      "source": [
        "data['income'].value_counts()"
      ],
      "metadata": {
        "colab": {
          "base_uri": "https://localhost:8080/",
          "height": 397
        },
        "id": "m9DvqiLdGxSC",
        "outputId": "76b729fe-fd50-4ee5-c0d7-a8d038e3f002"
      },
      "execution_count": 186,
      "outputs": [
        {
          "output_type": "execute_result",
          "data": {
            "text/plain": [
              "income\n",
              "$25000 - $37499     1985\n",
              "$12500 - $24999     1766\n",
              "$37500 - $49999     1733\n",
              "$100000 or More     1714\n",
              "$50000 - $62499     1631\n",
              "Less than $12500    1036\n",
              "$62500 - $74999      840\n",
              "$75000 - $87499      835\n",
              "$87500 - $99999      818\n",
              "Name: count, dtype: int64"
            ],
            "text/html": [
              "<div>\n",
              "<style scoped>\n",
              "    .dataframe tbody tr th:only-of-type {\n",
              "        vertical-align: middle;\n",
              "    }\n",
              "\n",
              "    .dataframe tbody tr th {\n",
              "        vertical-align: top;\n",
              "    }\n",
              "\n",
              "    .dataframe thead th {\n",
              "        text-align: right;\n",
              "    }\n",
              "</style>\n",
              "<table border=\"1\" class=\"dataframe\">\n",
              "  <thead>\n",
              "    <tr style=\"text-align: right;\">\n",
              "      <th></th>\n",
              "      <th>count</th>\n",
              "    </tr>\n",
              "    <tr>\n",
              "      <th>income</th>\n",
              "      <th></th>\n",
              "    </tr>\n",
              "  </thead>\n",
              "  <tbody>\n",
              "    <tr>\n",
              "      <th>$25000 - $37499</th>\n",
              "      <td>1985</td>\n",
              "    </tr>\n",
              "    <tr>\n",
              "      <th>$12500 - $24999</th>\n",
              "      <td>1766</td>\n",
              "    </tr>\n",
              "    <tr>\n",
              "      <th>$37500 - $49999</th>\n",
              "      <td>1733</td>\n",
              "    </tr>\n",
              "    <tr>\n",
              "      <th>$100000 or More</th>\n",
              "      <td>1714</td>\n",
              "    </tr>\n",
              "    <tr>\n",
              "      <th>$50000 - $62499</th>\n",
              "      <td>1631</td>\n",
              "    </tr>\n",
              "    <tr>\n",
              "      <th>Less than $12500</th>\n",
              "      <td>1036</td>\n",
              "    </tr>\n",
              "    <tr>\n",
              "      <th>$62500 - $74999</th>\n",
              "      <td>840</td>\n",
              "    </tr>\n",
              "    <tr>\n",
              "      <th>$75000 - $87499</th>\n",
              "      <td>835</td>\n",
              "    </tr>\n",
              "    <tr>\n",
              "      <th>$87500 - $99999</th>\n",
              "      <td>818</td>\n",
              "    </tr>\n",
              "  </tbody>\n",
              "</table>\n",
              "</div><br><label><b>dtype:</b> int64</label>"
            ]
          },
          "metadata": {},
          "execution_count": 186
        }
      ]
    },
    {
      "cell_type": "code",
      "source": [
        "sns.histplot(data=bar_coupon, x='maritalStatus', hue='combined_coupons', bins=5, stat='count', multiple='stack')\n",
        "plt.xlabel(\"Marital Status\")\n",
        "plt.ylabel(\"Total Count\")\n",
        "plt.xticks(rotation=45)\n",
        "plt.title(\"Coupon Acceptance by Marital Status\")"
      ],
      "metadata": {
        "colab": {
          "base_uri": "https://localhost:8080/",
          "height": 576
        },
        "id": "thIx663uK4bF",
        "outputId": "3c89f9d1-5c3d-41e6-e6a3-c128b45e9048"
      },
      "execution_count": 343,
      "outputs": [
        {
          "output_type": "execute_result",
          "data": {
            "text/plain": [
              "Text(0.5, 1.0, 'Coupon Acceptance by Marital Status')"
            ]
          },
          "metadata": {},
          "execution_count": 343
        },
        {
          "output_type": "display_data",
          "data": {
            "text/plain": [
              "<Figure size 640x480 with 1 Axes>"
            ],
            "image/png": "[encoded data removed]"
          },
          "metadata": {}
        }
      ]
    },
    {
      "cell_type": "code",
      "source": [
        "sns.histplot(data=bar_coupon, x='age', hue='combined_coupons', bins=5, stat='count', multiple='stack')\n",
        "plt.xlabel(\"age\")\n",
        "plt.ylabel(\"Total Count\")"
      ],
      "metadata": {
        "colab": {
          "base_uri": "https://localhost:8080/",
          "height": 466
        },
        "id": "S2uxLVjlMCRT",
        "outputId": "c6f404da-c49c-4cc8-a4e0-32a747c83d7e"
      },
      "execution_count": 344,
      "outputs": [
        {
          "output_type": "execute_result",
          "data": {
            "text/plain": [
              "Text(0, 0.5, 'Total Count')"
            ]
          },
          "metadata": {},
          "execution_count": 344
        },
        {
          "output_type": "display_data",
          "data": {
            "text/plain": [
              "<Figure size 640x480 with 1 Axes>"
            ],
            "image/png": "[encoded data removed]"
          },
          "metadata": {}
        }
      ]
    },
    {
      "cell_type": "code",
      "source": [
        "#go to cheap restaurants more than 4 times a month and income is less than 50K.\n",
        "\n",
        "#data['RestaurantLessThan20'].value_counts()\n",
        "\n",
        "cheapfood = data[(data['RestaurantLessThan20']==\"4~8\") |\n",
        " (data['RestaurantLessThan20']==\"gt8\")]\n",
        "print(len(cheapfood))\n",
        "cheapfood_lowincome =cheapfood[((cheapfood['income']==\"$25000 - $37499\") |\n",
        "   (cheapfood['income']==\"$37500 - $49999\") |\n",
        "    (cheapfood['income']==\"$12500 - $24999\")) &\n",
        "                               (cheapfood['combined_coupons']==3)]\n",
        "cheapfood_lowincome_acceptance_rate = len(cheapfood_lowincome) / len(data)\n",
        "print(f\"Cheap rest. frequenters with income under $50k: {cheapfood_lowincome_acceptance_rate:.2f}\")"
      ],
      "metadata": {
        "colab": {
          "base_uri": "https://localhost:8080/"
        },
        "id": "G1VksV6dE0GI",
        "outputId": "c6d662db-3e8b-4e2f-856c-fa2a026804f3"
      },
      "execution_count": 337,
      "outputs": [
        {
          "output_type": "stream",
          "name": "stdout",
          "text": [
            "4757\n",
            "Cheap rest. frequenters with income under $50k: 0.08\n"
          ]
        }
      ]
    },
    {
      "cell_type": "markdown",
      "metadata": {
        "id": "v3fL3QkO_qRK"
      },
      "source": [
        "7.  Based on these observations, what do you hypothesize about drivers who accepted the bar coupons?"
      ]
    },
    {
      "cell_type": "markdown",
      "source": [
        "\n",
        "\n",
        "*  Bar coupons were accepted 66% of the time\n",
        "*  The vast majority of the drivers who accepted the bar coupon usually don’t frequent bars more than three times a month.\n",
        "*  Drivers who frequent bar often and accepted the coupon tended to be over the age of 25\n",
        "*   Drivers more than likely had no kids as passengers\n",
        "*   Most are married\n",
        "*   Ages vary though most are under 25\n",
        "\n",
        "\n",
        "\n",
        "\n",
        "\n",
        "\n",
        "\n"
      ],
      "metadata": {
        "id": "9WRcklUbHz7t"
      }
    },
    {
      "cell_type": "markdown",
      "metadata": {
        "id": "r4Hu1zOb_qRL"
      },
      "source": [
        "### Independent Investigation\n",
        "\n",
        "Using the bar coupon example as motivation, you are to explore one of the other coupon groups and try to determine the characteristics of passengers who accept the coupons.  "
      ]
    },
    {
      "cell_type": "code",
      "source": [
        "#create a new dataframe for carryaway coupons\n",
        "takeoutcoupon=data[data['coupon']=='Carry out & Take away']\n",
        "takeoutcoupon"
      ],
      "metadata": {
        "colab": {
          "base_uri": "https://localhost:8080/",
          "height": 964
        },
        "id": "BP3Db8DetEAy",
        "outputId": "bb8852cb-9c63-4734-ab97-18346b4aacd6"
      },
      "execution_count": 188,
      "outputs": [
        {
          "output_type": "execute_result",
          "data": {
            "text/plain": [
              "           destination  passenger weather  temperature  time  \\\n",
              "25     No Urgent Place  Friend(s)   Sunny           80  1000   \n",
              "33     No Urgent Place  Friend(s)   Sunny           55  1400   \n",
              "41                Work      Alone   Sunny           80   700   \n",
              "47     No Urgent Place  Friend(s)   Sunny           80  1000   \n",
              "55     No Urgent Place  Friend(s)   Sunny           55  1400   \n",
              "...                ...        ...     ...          ...   ...   \n",
              "12665  No Urgent Place  Friend(s)   Sunny           30  1000   \n",
              "12672             Home      Alone   Sunny           80  1800   \n",
              "12673             Home      Alone   Sunny           30  1800   \n",
              "12679             Home    Partner   Rainy           55  1800   \n",
              "12680             Work      Alone   Rainy           55   700   \n",
              "\n",
              "                      coupon expiration gender   age maritalStatus  ...  \\\n",
              "25     Carry out & Take away         2h   Male  21.0        Single  ...   \n",
              "33     Carry out & Take away         1d   Male  21.0        Single  ...   \n",
              "41     Carry out & Take away         2h   Male  21.0        Single  ...   \n",
              "47     Carry out & Take away         2h   Male  46.0        Single  ...   \n",
              "55     Carry out & Take away         1d   Male  46.0        Single  ...   \n",
              "...                      ...        ...    ...   ...           ...  ...   \n",
              "12665  Carry out & Take away         2h   Male  26.0        Single  ...   \n",
              "12672  Carry out & Take away         2h   Male  26.0        Single  ...   \n",
              "12673  Carry out & Take away         1d   Male  26.0        Single  ...   \n",
              "12679  Carry out & Take away         1d   Male  26.0        Single  ...   \n",
              "12680  Carry out & Take away         1d   Male  26.0        Single  ...   \n",
              "\n",
              "       CarryAway RestaurantLessThan20 Restaurant20To50 Coupon_5mins  \\\n",
              "25           4~8                  4~8            less1            1   \n",
              "33           4~8                  4~8            less1            1   \n",
              "41           4~8                  4~8            less1            1   \n",
              "47           1~3                  1~3            never            1   \n",
              "55           1~3                  1~3            never            1   \n",
              "...          ...                  ...              ...          ...   \n",
              "12665        1~3                  4~8              1~3            1   \n",
              "12672        1~3                  4~8              1~3            1   \n",
              "12673        1~3                  4~8              1~3            1   \n",
              "12679        1~3                  4~8              1~3            1   \n",
              "12680        1~3                  4~8              1~3            1   \n",
              "\n",
              "      Coupon_15mins Coupon_25mins direction_same direction_opp  Y  \\\n",
              "25                1             1              0             1  0   \n",
              "33                1             1              0             1  1   \n",
              "41                0             0              1             0  1   \n",
              "47                1             1              0             1  1   \n",
              "55                1             1              0             1  1   \n",
              "...             ...           ...            ...           ... ..   \n",
              "12665             0             0              0             1  1   \n",
              "12672             1             1              1             0  0   \n",
              "12673             0             0              0             1  0   \n",
              "12679             0             0              1             0  1   \n",
              "12680             0             0              0             1  1   \n",
              "\n",
              "       combined_coupons  \n",
              "25                    3  \n",
              "33                    3  \n",
              "41                    1  \n",
              "47                    3  \n",
              "55                    3  \n",
              "...                 ...  \n",
              "12665                 1  \n",
              "12672                 3  \n",
              "12673                 1  \n",
              "12679                 1  \n",
              "12680                 1  \n",
              "\n",
              "[2340 rows x 26 columns]"
            ],
            "text/html": [
              "\n",
              "  <div id=\"df-88afd55f-9e75-4f5a-b814-90c70f1b94f4\" class=\"colab-df-container\">\n",
              "    <div>\n",
              "<style scoped>\n",
              "    .dataframe tbody tr th:only-of-type {\n",
              "        vertical-align: middle;\n",
              "    }\n",
              "\n",
              "    .dataframe tbody tr th {\n",
              "        vertical-align: top;\n",
              "    }\n",
              "\n",
              "    .dataframe thead th {\n",
              "        text-align: right;\n",
              "    }\n",
              "</style>\n",
              "<table border=\"1\" class=\"dataframe\">\n",
              "  <thead>\n",
              "    <tr style=\"text-align: right;\">\n",
              "      <th></th>\n",
              "      <th>destination</th>\n",
              "      <th>passenger</th>\n",
              "      <th>weather</th>\n",
              "      <th>temperature</th>\n",
              "      <th>time</th>\n",
              "      <th>coupon</th>\n",
              "      <th>expiration</th>\n",
              "      <th>gender</th>\n",
              "      <th>age</th>\n",
              "      <th>maritalStatus</th>\n",
              "      <th>...</th>\n",
              "      <th>CarryAway</th>\n",
              "      <th>RestaurantLessThan20</th>\n",
              "      <th>Restaurant20To50</th>\n",
              "      <th>Coupon_5mins</th>\n",
              "      <th>Coupon_15mins</th>\n",
              "      <th>Coupon_25mins</th>\n",
              "      <th>direction_same</th>\n",
              "      <th>direction_opp</th>\n",
              "      <th>Y</th>\n",
              "      <th>combined_coupons</th>\n",
              "    </tr>\n",
              "  </thead>\n",
              "  <tbody>\n",
              "    <tr>\n",
              "      <th>25</th>\n",
              "      <td>No Urgent Place</td>\n",
              "      <td>Friend(s)</td>\n",
              "      <td>Sunny</td>\n",
              "      <td>80</td>\n",
              "      <td>1000</td>\n",
              "      <td>Carry out &amp; Take away</td>\n",
              "      <td>2h</td>\n",
              "      <td>Male</td>\n",
              "      <td>21.0</td>\n",
              "      <td>Single</td>\n",
              "      <td>...</td>\n",
              "      <td>4~8</td>\n",
              "      <td>4~8</td>\n",
              "      <td>less1</td>\n",
              "      <td>1</td>\n",
              "      <td>1</td>\n",
              "      <td>1</td>\n",
              "      <td>0</td>\n",
              "      <td>1</td>\n",
              "      <td>0</td>\n",
              "      <td>3</td>\n",
              "    </tr>\n",
              "    <tr>\n",
              "      <th>33</th>\n",
              "      <td>No Urgent Place</td>\n",
              "      <td>Friend(s)</td>\n",
              "      <td>Sunny</td>\n",
              "      <td>55</td>\n",
              "      <td>1400</td>\n",
              "      <td>Carry out &amp; Take away</td>\n",
              "      <td>1d</td>\n",
              "      <td>Male</td>\n",
              "      <td>21.0</td>\n",
              "      <td>Single</td>\n",
              "      <td>...</td>\n",
              "      <td>4~8</td>\n",
              "      <td>4~8</td>\n",
              "      <td>less1</td>\n",
              "      <td>1</td>\n",
              "      <td>1</td>\n",
              "      <td>1</td>\n",
              "      <td>0</td>\n",
              "      <td>1</td>\n",
              "      <td>1</td>\n",
              "      <td>3</td>\n",
              "    </tr>\n",
              "    <tr>\n",
              "      <th>41</th>\n",
              "      <td>Work</td>\n",
              "      <td>Alone</td>\n",
              "      <td>Sunny</td>\n",
              "      <td>80</td>\n",
              "      <td>700</td>\n",
              "      <td>Carry out &amp; Take away</td>\n",
              "      <td>2h</td>\n",
              "      <td>Male</td>\n",
              "      <td>21.0</td>\n",
              "      <td>Single</td>\n",
              "      <td>...</td>\n",
              "      <td>4~8</td>\n",
              "      <td>4~8</td>\n",
              "      <td>less1</td>\n",
              "      <td>1</td>\n",
              "      <td>0</td>\n",
              "      <td>0</td>\n",
              "      <td>1</td>\n",
              "      <td>0</td>\n",
              "      <td>1</td>\n",
              "      <td>1</td>\n",
              "    </tr>\n",
              "    <tr>\n",
              "      <th>47</th>\n",
              "      <td>No Urgent Place</td>\n",
              "      <td>Friend(s)</td>\n",
              "      <td>Sunny</td>\n",
              "      <td>80</td>\n",
              "      <td>1000</td>\n",
              "      <td>Carry out &amp; Take away</td>\n",
              "      <td>2h</td>\n",
              "      <td>Male</td>\n",
              "      <td>46.0</td>\n",
              "      <td>Single</td>\n",
              "      <td>...</td>\n",
              "      <td>1~3</td>\n",
              "      <td>1~3</td>\n",
              "      <td>never</td>\n",
              "      <td>1</td>\n",
              "      <td>1</td>\n",
              "      <td>1</td>\n",
              "      <td>0</td>\n",
              "      <td>1</td>\n",
              "      <td>1</td>\n",
              "      <td>3</td>\n",
              "    </tr>\n",
              "    <tr>\n",
              "      <th>55</th>\n",
              "      <td>No Urgent Place</td>\n",
              "      <td>Friend(s)</td>\n",
              "      <td>Sunny</td>\n",
              "      <td>55</td>\n",
              "      <td>1400</td>\n",
              "      <td>Carry out &amp; Take away</td>\n",
              "      <td>1d</td>\n",
              "      <td>Male</td>\n",
              "      <td>46.0</td>\n",
              "      <td>Single</td>\n",
              "      <td>...</td>\n",
              "      <td>1~3</td>\n",
              "      <td>1~3</td>\n",
              "      <td>never</td>\n",
              "      <td>1</td>\n",
              "      <td>1</td>\n",
              "      <td>1</td>\n",
              "      <td>0</td>\n",
              "      <td>1</td>\n",
              "      <td>1</td>\n",
              "      <td>3</td>\n",
              "    </tr>\n",
              "    <tr>\n",
              "      <th>...</th>\n",
              "      <td>...</td>\n",
              "      <td>...</td>\n",
              "      <td>...</td>\n",
              "      <td>...</td>\n",
              "      <td>...</td>\n",
              "      <td>...</td>\n",
              "      <td>...</td>\n",
              "      <td>...</td>\n",
              "      <td>...</td>\n",
              "      <td>...</td>\n",
              "      <td>...</td>\n",
              "      <td>...</td>\n",
              "      <td>...</td>\n",
              "      <td>...</td>\n",
              "      <td>...</td>\n",
              "      <td>...</td>\n",
              "      <td>...</td>\n",
              "      <td>...</td>\n",
              "      <td>...</td>\n",
              "      <td>...</td>\n",
              "      <td>...</td>\n",
              "    </tr>\n",
              "    <tr>\n",
              "      <th>12665</th>\n",
              "      <td>No Urgent Place</td>\n",
              "      <td>Friend(s)</td>\n",
              "      <td>Sunny</td>\n",
              "      <td>30</td>\n",
              "      <td>1000</td>\n",
              "      <td>Carry out &amp; Take away</td>\n",
              "      <td>2h</td>\n",
              "      <td>Male</td>\n",
              "      <td>26.0</td>\n",
              "      <td>Single</td>\n",
              "      <td>...</td>\n",
              "      <td>1~3</td>\n",
              "      <td>4~8</td>\n",
              "      <td>1~3</td>\n",
              "      <td>1</td>\n",
              "      <td>0</td>\n",
              "      <td>0</td>\n",
              "      <td>0</td>\n",
              "      <td>1</td>\n",
              "      <td>1</td>\n",
              "      <td>1</td>\n",
              "    </tr>\n",
              "    <tr>\n",
              "      <th>12672</th>\n",
              "      <td>Home</td>\n",
              "      <td>Alone</td>\n",
              "      <td>Sunny</td>\n",
              "      <td>80</td>\n",
              "      <td>1800</td>\n",
              "      <td>Carry out &amp; Take away</td>\n",
              "      <td>2h</td>\n",
              "      <td>Male</td>\n",
              "      <td>26.0</td>\n",
              "      <td>Single</td>\n",
              "      <td>...</td>\n",
              "      <td>1~3</td>\n",
              "      <td>4~8</td>\n",
              "      <td>1~3</td>\n",
              "      <td>1</td>\n",
              "      <td>1</td>\n",
              "      <td>1</td>\n",
              "      <td>1</td>\n",
              "      <td>0</td>\n",
              "      <td>0</td>\n",
              "      <td>3</td>\n",
              "    </tr>\n",
              "    <tr>\n",
              "      <th>12673</th>\n",
              "      <td>Home</td>\n",
              "      <td>Alone</td>\n",
              "      <td>Sunny</td>\n",
              "      <td>30</td>\n",
              "      <td>1800</td>\n",
              "      <td>Carry out &amp; Take away</td>\n",
              "      <td>1d</td>\n",
              "      <td>Male</td>\n",
              "      <td>26.0</td>\n",
              "      <td>Single</td>\n",
              "      <td>...</td>\n",
              "      <td>1~3</td>\n",
              "      <td>4~8</td>\n",
              "      <td>1~3</td>\n",
              "      <td>1</td>\n",
              "      <td>0</td>\n",
              "      <td>0</td>\n",
              "      <td>0</td>\n",
              "      <td>1</td>\n",
              "      <td>0</td>\n",
              "      <td>1</td>\n",
              "    </tr>\n",
              "    <tr>\n",
              "      <th>12679</th>\n",
              "      <td>Home</td>\n",
              "      <td>Partner</td>\n",
              "      <td>Rainy</td>\n",
              "      <td>55</td>\n",
              "      <td>1800</td>\n",
              "      <td>Carry out &amp; Take away</td>\n",
              "      <td>1d</td>\n",
              "      <td>Male</td>\n",
              "      <td>26.0</td>\n",
              "      <td>Single</td>\n",
              "      <td>...</td>\n",
              "      <td>1~3</td>\n",
              "      <td>4~8</td>\n",
              "      <td>1~3</td>\n",
              "      <td>1</td>\n",
              "      <td>0</td>\n",
              "      <td>0</td>\n",
              "      <td>1</td>\n",
              "      <td>0</td>\n",
              "      <td>1</td>\n",
              "      <td>1</td>\n",
              "    </tr>\n",
              "    <tr>\n",
              "      <th>12680</th>\n",
              "      <td>Work</td>\n",
              "      <td>Alone</td>\n",
              "      <td>Rainy</td>\n",
              "      <td>55</td>\n",
              "      <td>700</td>\n",
              "      <td>Carry out &amp; Take away</td>\n",
              "      <td>1d</td>\n",
              "      <td>Male</td>\n",
              "      <td>26.0</td>\n",
              "      <td>Single</td>\n",
              "      <td>...</td>\n",
              "      <td>1~3</td>\n",
              "      <td>4~8</td>\n",
              "      <td>1~3</td>\n",
              "      <td>1</td>\n",
              "      <td>0</td>\n",
              "      <td>0</td>\n",
              "      <td>0</td>\n",
              "      <td>1</td>\n",
              "      <td>1</td>\n",
              "      <td>1</td>\n",
              "    </tr>\n",
              "  </tbody>\n",
              "</table>\n",
              "<p>2340 rows × 26 columns</p>\n",
              "</div>\n",
              "    <div class=\"colab-df-buttons\">\n",
              "\n",
              "  <div class=\"colab-df-container\">\n",
              "    <button class=\"colab-df-convert\" onclick=\"convertToInteractive('df-88afd55f-9e75-4f5a-b814-90c70f1b94f4')\"\n",
              "            title=\"Convert this dataframe to an interactive table.\"\n",
              "            style=\"display:none;\">\n",
              "\n",
              "  <svg xmlns=\"http://www.w3.org/2000/svg\" height=\"24px\" viewBox=\"0 -960 960 960\">\n",
              "    <path d=\"M120-120v-720h720v720H120Zm60-500h600v-160H180v160Zm220 220h160v-160H400v160Zm0 220h160v-160H400v160ZM180-400h160v-160H180v160Zm440 0h160v-160H620v160ZM180-180h160v-160H180v160Zm440 0h160v-160H620v160Z\"/>\n",
              "  </svg>\n",
              "    </button>\n",
              "\n",
              "  <style>\n",
              "    .colab-df-container {\n",
              "      display:flex;\n",
              "      gap: 12px;\n",
              "    }\n",
              "\n",
              "    .colab-df-convert {\n",
              "      background-color: #E8F0FE;\n",
              "      border: none;\n",
              "      border-radius: 50%;\n",
              "      cursor: pointer;\n",
              "      display: none;\n",
              "      fill: #1967D2;\n",
              "      height: 32px;\n",
              "      padding: 0 0 0 0;\n",
              "      width: 32px;\n",
              "    }\n",
              "\n",
              "    .colab-df-convert:hover {\n",
              "      background-color: #E2EBFA;\n",
              "      box-shadow: 0px 1px 2px rgba(60, 64, 67, 0.3), 0px 1px 3px 1px rgba(60, 64, 67, 0.15);\n",
              "      fill: #174EA6;\n",
              "    }\n",
              "\n",
              "    .colab-df-buttons div {\n",
              "      margin-bottom: 4px;\n",
              "    }\n",
              "\n",
              "    [theme=dark] .colab-df-convert {\n",
              "      background-color: #3B4455;\n",
              "      fill: #D2E3FC;\n",
              "    }\n",
              "\n",
              "    [theme=dark] .colab-df-convert:hover {\n",
              "      background-color: #434B5C;\n",
              "      box-shadow: 0px 1px 3px 1px rgba(0, 0, 0, 0.15);\n",
              "      filter: drop-shadow(0px 1px 2px rgba(0, 0, 0, 0.3));\n",
              "      fill: #FFFFFF;\n",
              "    }\n",
              "  </style>\n",
              "\n",
              "    <script>\n",
              "      const buttonEl =\n",
              "        document.querySelector('#df-88afd55f-9e75-4f5a-b814-90c70f1b94f4 button.colab-df-convert');\n",
              "      buttonEl.style.display =\n",
              "        google.colab.kernel.accessAllowed ? 'block' : 'none';\n",
              "\n",
              "      async function convertToInteractive(key) {\n",
              "        const element = document.querySelector('#df-88afd55f-9e75-4f5a-b814-90c70f1b94f4');\n",
              "        const dataTable =\n",
              "          await google.colab.kernel.invokeFunction('convertToInteractive',\n",
              "                                                    [key], {});\n",
              "        if (!dataTable) return;\n",
              "\n",
              "        const docLinkHtml = 'Like what you see? Visit the ' +\n",
              "          '<a target=\"_blank\" href=https://colab.research.google.com/notebooks/data_table.ipynb>data table notebook</a>'\n",
              "          + ' to learn more about interactive tables.';\n",
              "        element.innerHTML = '';\n",
              "        dataTable['output_type'] = 'display_data';\n",
              "        await google.colab.output.renderOutput(dataTable, element);\n",
              "        const docLink = document.createElement('div');\n",
              "        docLink.innerHTML = docLinkHtml;\n",
              "        element.appendChild(docLink);\n",
              "      }\n",
              "    </script>\n",
              "  </div>\n",
              "\n",
              "\n",
              "<div id=\"df-231cad6a-7a9a-42d0-8041-7aa588e27977\">\n",
              "  <button class=\"colab-df-quickchart\" onclick=\"quickchart('df-231cad6a-7a9a-42d0-8041-7aa588e27977')\"\n",
              "            title=\"Suggest charts\"\n",
              "            style=\"display:none;\">\n",
              "\n",
              "<svg xmlns=\"http://www.w3.org/2000/svg\" height=\"24px\"viewBox=\"0 0 24 24\"\n",
              "     width=\"24px\">\n",
              "    <g>\n",
              "        <path d=\"M19 3H5c-1.1 0-2 .9-2 2v14c0 1.1.9 2 2 2h14c1.1 0 2-.9 2-2V5c0-1.1-.9-2-2-2zM9 17H7v-7h2v7zm4 0h-2V7h2v10zm4 0h-2v-4h2v4z\"/>\n",
              "    </g>\n",
              "</svg>\n",
              "  </button>\n",
              "\n",
              "<style>\n",
              "  .colab-df-quickchart {\n",
              "      --bg-color: #E8F0FE;\n",
              "      --fill-color: #1967D2;\n",
              "      --hover-bg-color: #E2EBFA;\n",
              "      --hover-fill-color: #174EA6;\n",
              "      --disabled-fill-color: #AAA;\n",
              "      --disabled-bg-color: #DDD;\n",
              "  }\n",
              "\n",
              "  [theme=dark] .colab-df-quickchart {\n",
              "      --bg-color: #3B4455;\n",
              "      --fill-color: #D2E3FC;\n",
              "      --hover-bg-color: #434B5C;\n",
              "      --hover-fill-color: #FFFFFF;\n",
              "      --disabled-bg-color: #3B4455;\n",
              "      --disabled-fill-color: #666;\n",
              "  }\n",
              "\n",
              "  .colab-df-quickchart {\n",
              "    background-color: var(--bg-color);\n",
              "    border: none;\n",
              "    border-radius: 50%;\n",
              "    cursor: pointer;\n",
              "    display: none;\n",
              "    fill: var(--fill-color);\n",
              "    height: 32px;\n",
              "    padding: 0;\n",
              "    width: 32px;\n",
              "  }\n",
              "\n",
              "  .colab-df-quickchart:hover {\n",
              "    background-color: var(--hover-bg-color);\n",
              "    box-shadow: 0 1px 2px rgba(60, 64, 67, 0.3), 0 1px 3px 1px rgba(60, 64, 67, 0.15);\n",
              "    fill: var(--button-hover-fill-color);\n",
              "  }\n",
              "\n",
              "  .colab-df-quickchart-complete:disabled,\n",
              "  .colab-df-quickchart-complete:disabled:hover {\n",
              "    background-color: var(--disabled-bg-color);\n",
              "    fill: var(--disabled-fill-color);\n",
              "    box-shadow: none;\n",
              "  }\n",
              "\n",
              "  .colab-df-spinner {\n",
              "    border: 2px solid var(--fill-color);\n",
              "    border-color: transparent;\n",
              "    border-bottom-color: var(--fill-color);\n",
              "    animation:\n",
              "      spin 1s steps(1) infinite;\n",
              "  }\n",
              "\n",
              "  @keyframes spin {\n",
              "    0% {\n",
              "      border-color: transparent;\n",
              "      border-bottom-color: var(--fill-color);\n",
              "      border-left-color: var(--fill-color);\n",
              "    }\n",
              "    20% {\n",
              "      border-color: transparent;\n",
              "      border-left-color: var(--fill-color);\n",
              "      border-top-color: var(--fill-color);\n",
              "    }\n",
              "    30% {\n",
              "      border-color: transparent;\n",
              "      border-left-color: var(--fill-color);\n",
              "      border-top-color: var(--fill-color);\n",
              "      border-right-color: var(--fill-color);\n",
              "    }\n",
              "    40% {\n",
              "      border-color: transparent;\n",
              "      border-right-color: var(--fill-color);\n",
              "      border-top-color: var(--fill-color);\n",
              "    }\n",
              "    60% {\n",
              "      border-color: transparent;\n",
              "      border-right-color: var(--fill-color);\n",
              "    }\n",
              "    80% {\n",
              "      border-color: transparent;\n",
              "      border-right-color: var(--fill-color);\n",
              "      border-bottom-color: var(--fill-color);\n",
              "    }\n",
              "    90% {\n",
              "      border-color: transparent;\n",
              "      border-bottom-color: var(--fill-color);\n",
              "    }\n",
              "  }\n",
              "</style>\n",
              "\n",
              "  <script>\n",
              "    async function quickchart(key) {\n",
              "      const quickchartButtonEl =\n",
              "        document.querySelector('#' + key + ' button');\n",
              "      quickchartButtonEl.disabled = true;  // To prevent multiple clicks.\n",
              "      quickchartButtonEl.classList.add('colab-df-spinner');\n",
              "      try {\n",
              "        const charts = await google.colab.kernel.invokeFunction(\n",
              "            'suggestCharts', [key], {});\n",
              "      } catch (error) {\n",
              "        console.error('Error during call to suggestCharts:', error);\n",
              "      }\n",
              "      quickchartButtonEl.classList.remove('colab-df-spinner');\n",
              "      quickchartButtonEl.classList.add('colab-df-quickchart-complete');\n",
              "    }\n",
              "    (() => {\n",
              "      let quickchartButtonEl =\n",
              "        document.querySelector('#df-231cad6a-7a9a-42d0-8041-7aa588e27977 button');\n",
              "      quickchartButtonEl.style.display =\n",
              "        google.colab.kernel.accessAllowed ? 'block' : 'none';\n",
              "    })();\n",
              "  </script>\n",
              "</div>\n",
              "\n",
              "  <div id=\"id_3f0e21b1-a347-4daf-a016-49ff890ecd02\">\n",
              "    <style>\n",
              "      .colab-df-generate {\n",
              "        background-color: #E8F0FE;\n",
              "        border: none;\n",
              "        border-radius: 50%;\n",
              "        cursor: pointer;\n",
              "        display: none;\n",
              "        fill: #1967D2;\n",
              "        height: 32px;\n",
              "        padding: 0 0 0 0;\n",
              "        width: 32px;\n",
              "      }\n",
              "\n",
              "      .colab-df-generate:hover {\n",
              "        background-color: #E2EBFA;\n",
              "        box-shadow: 0px 1px 2px rgba(60, 64, 67, 0.3), 0px 1px 3px 1px rgba(60, 64, 67, 0.15);\n",
              "        fill: #174EA6;\n",
              "      }\n",
              "\n",
              "      [theme=dark] .colab-df-generate {\n",
              "        background-color: #3B4455;\n",
              "        fill: #D2E3FC;\n",
              "      }\n",
              "\n",
              "      [theme=dark] .colab-df-generate:hover {\n",
              "        background-color: #434B5C;\n",
              "        box-shadow: 0px 1px 3px 1px rgba(0, 0, 0, 0.15);\n",
              "        filter: drop-shadow(0px 1px 2px rgba(0, 0, 0, 0.3));\n",
              "        fill: #FFFFFF;\n",
              "      }\n",
              "    </style>\n",
              "    <button class=\"colab-df-generate\" onclick=\"generateWithVariable('takeoutcoupon')\"\n",
              "            title=\"Generate code using this dataframe.\"\n",
              "            style=\"display:none;\">\n",
              "\n",
              "  <svg xmlns=\"http://www.w3.org/2000/svg\" height=\"24px\"viewBox=\"0 0 24 24\"\n",
              "       width=\"24px\">\n",
              "    <path d=\"M7,19H8.4L18.45,9,17,7.55,7,17.6ZM5,21V16.75L18.45,3.32a2,2,0,0,1,2.83,0l1.4,1.43a1.91,1.91,0,0,1,.58,1.4,1.91,1.91,0,0,1-.58,1.4L9.25,21ZM18.45,9,17,7.55Zm-12,3A5.31,5.31,0,0,0,4.9,8.1,5.31,5.31,0,0,0,1,6.5,5.31,5.31,0,0,0,4.9,4.9,5.31,5.31,0,0,0,6.5,1,5.31,5.31,0,0,0,8.1,4.9,5.31,5.31,0,0,0,12,6.5,5.46,5.46,0,0,0,6.5,12Z\"/>\n",
              "  </svg>\n",
              "    </button>\n",
              "    <script>\n",
              "      (() => {\n",
              "      const buttonEl =\n",
              "        document.querySelector('#id_3f0e21b1-a347-4daf-a016-49ff890ecd02 button.colab-df-generate');\n",
              "      buttonEl.style.display =\n",
              "        google.colab.kernel.accessAllowed ? 'block' : 'none';\n",
              "\n",
              "      buttonEl.onclick = () => {\n",
              "        google.colab.notebook.generateWithVariable('takeoutcoupon');\n",
              "      }\n",
              "      })();\n",
              "    </script>\n",
              "  </div>\n",
              "\n",
              "    </div>\n",
              "  </div>\n"
            ],
            "application/vnd.google.colaboratory.intrinsic+json": {
              "type": "dataframe",
              "variable_name": "takeoutcoupon"
            }
          },
          "metadata": {},
          "execution_count": 188
        }
      ]
    },
    {
      "cell_type": "code",
      "source": [
        "#the question asks about passengers\n",
        "#look at drivers who accepted the carry out coupon and had passengers\n",
        "\n",
        "takeout_driver_acceptance = takeoutcoupon[(takeoutcoupon['combined_coupons']==3) &\n",
        "                                       (takeoutcoupon['passenger']!=\"Alone\")]\n",
        "\n",
        "print(len(takeout_driver_acceptance))\n",
        "takeout_driver_acceptance_rate = len(takeout_driver_acceptance) / len(takeoutcoupon)\n",
        "print(f\"Carry Away coupons accepted from drivers with passengers: {takeout_driver_acceptance_rate:.2f}\")\n",
        ""
      ],
      "metadata": {
        "colab": {
          "base_uri": "https://localhost:8080/"
        },
        "id": "LuuCB3Z-18ZN",
        "outputId": "f41cd8d1-adcb-4076-b144-a16e8a4a035c"
      },
      "execution_count": 321,
      "outputs": [
        {
          "output_type": "stream",
          "name": "stdout",
          "text": [
            "817\n",
            "Carry Away coupons accepted from drivers with passengers: 0.35\n"
          ]
        }
      ]
    },
    {
      "cell_type": "markdown",
      "source": [
        "About 35% of drivers who accepted carryout had passengers"
      ],
      "metadata": {
        "id": "TyjWoyS-Irpx"
      }
    },
    {
      "cell_type": "code",
      "execution_count": 323,
      "metadata": {
        "id": "QEsBkvIN_qRL",
        "colab": {
          "base_uri": "https://localhost:8080/",
          "height": 472
        },
        "outputId": "fb1071ae-903c-4295-aafe-306d928d138f"
      },
      "outputs": [
        {
          "output_type": "display_data",
          "data": {
            "text/plain": [
              "<Figure size 640x480 with 1 Axes>"
            ],
            "image/png": "[encoded data removed]"
          },
          "metadata": {}
        }
      ],
      "source": [
        "#visual of drivers by passengers who accepted CarryAway coupons\n",
        "sns.histplot(data=takeoutcoupon, x='combined_coupons', hue='passenger', bins=5, multiple='stack')\n",
        "plt.xlabel(\"Number of Carry Away Coupons Accepted by Drivers\")\n",
        "plt.ylabel(\"Total Count of Carry Away Coupons\")\n",
        "plt.title(\"Carry Away Coupon Acceptance by Passenger Type\")\n",
        "plt.xlim(0,5)\n",
        "plt.show()"
      ]
    },
    {
      "cell_type": "markdown",
      "source": [
        "Drivers who accepted carry away (3 bar) were mostly alone with the remainder comprising 35%"
      ],
      "metadata": {
        "id": "5N6EUlWgI9Zn"
      }
    },
    {
      "cell_type": "markdown",
      "source": [
        "Characteristics of Passengers of drivers who accepted CarryAway coupons:\n",
        "30% chance they were alone\n",
        "those who had passengers were most likely friends, with a smaller group having kids and an evern smaller group having partners as passengers.\n"
      ],
      "metadata": {
        "id": "prWQl_8uOcc7"
      }
    },
    {
      "cell_type": "markdown",
      "source": [
        "The remaining cells are just additional analyses of drivers who accepted the CarryAway coupon type\n",
        "\n",
        "\n",
        "*   drivers had 0 or 1 child (about 50-50)\n",
        "*   direction did not matter. in fact, most of the acceptances were going in the wrong direction\n",
        "*   cold temperatures accounted for much of the increase in carry away acceptance\n",
        "*   carry away was the second largest coupon group after coffee_houses\n",
        "*   there was a bigger proportion of acceptance for coupons with the shorter expiration dates\n",
        "\n",
        "\n",
        "\n",
        "\n",
        "\n",
        "\n",
        "\n"
      ],
      "metadata": {
        "id": "hYERe_q8Pzpf"
      }
    },
    {
      "cell_type": "code",
      "execution_count": 322,
      "metadata": {
        "id": "fTC2WGE3_qRL",
        "colab": {
          "base_uri": "https://localhost:8080/",
          "height": 472
        },
        "outputId": "7b4f98b5-9534-42c9-a34e-8f72bd7f82b7"
      },
      "outputs": [
        {
          "output_type": "display_data",
          "data": {
            "text/plain": [
              "<Figure size 640x480 with 1 Axes>"
            ],
            "image/png": "[encoded data removed]"
          },
          "metadata": {}
        }
      ],
      "source": [
        "#visual of age and marital status for people who received takeoutcoupons\n",
        "sns.histplot(data=takeoutcoupon, x=('combined_coupons'), hue= 'has_children', bins= 5, multiple='stack')\n",
        "plt.xlabel(\"Number of Carry Away Coupons Accepted by Drivers\")\n",
        "plt.ylabel(\"Total Count of Carry Away Coupons\")\n",
        "plt.title(\"Carry Away Coupon Acceptance by Drivers with Children\")\n",
        "plt.xlim(0,5)\n",
        "plt.show()"
      ]
    },
    {
      "cell_type": "markdown",
      "source": [
        "Having children did not have much of an impact on whether they accepted carryaway."
      ],
      "metadata": {
        "id": "vrJ2Jq-fJyby"
      }
    },
    {
      "cell_type": "code",
      "execution_count": 193,
      "metadata": {
        "id": "RrqUWn7d_qRL",
        "colab": {
          "base_uri": "https://localhost:8080/",
          "height": 472
        },
        "outputId": "6b5fae4d-3458-4376-e15f-c8fdcddb9cd8"
      },
      "outputs": [
        {
          "output_type": "display_data",
          "data": {
            "text/plain": [
              "<Figure size 640x480 with 1 Axes>"
            ],
            "image/png": "[encoded data removed]"
          },
          "metadata": {}
        }
      ],
      "source": [
        "#visual of destination and direction for people who received takeoutcoupons\n",
        "sns.histplot(data=takeoutcoupon, x='combined_coupons', hue='direction_same', bins=5, multiple='stack')\n",
        "plt.xlabel(\"Number of Carry Away Coupons Accepted by Individual\")\n",
        "plt.ylabel(\"Total Count of Carry Away Coupons\")\n",
        "plt.title(\"Proportion of Coupon Acceptance by Direction of Destination\")\n",
        "plt.xlim(0,5)\n",
        "plt.show()"
      ]
    },
    {
      "cell_type": "code",
      "source": [
        "Direction was significant in whether they accepted the coupons for carry away."
      ],
      "metadata": {
        "id": "VEiwMvwtJ53I"
      },
      "execution_count": null,
      "outputs": []
    },
    {
      "cell_type": "code",
      "execution_count": 194,
      "metadata": {
        "id": "_oykf8YP_qRL",
        "colab": {
          "base_uri": "https://localhost:8080/",
          "height": 472
        },
        "outputId": "a130150a-dced-4096-d86c-e5e5d0b20fc6"
      },
      "outputs": [
        {
          "output_type": "display_data",
          "data": {
            "text/plain": [
              "<Figure size 640x480 with 1 Axes>"
            ],
            "image/png": "[encoded data removed]"
          },
          "metadata": {}
        }
      ],
      "source": [
        "sns.histplot(data=takeoutcoupon, x='combined_coupons', hue='temperature', bins=5, multiple='stack')\n",
        "plt.xlabel(\"Number of Carry Away Coupons Accepted by Individual\")\n",
        "plt.ylabel(\"Total Count of Carry Away Coupons\")\n",
        "plt.title(\"Carry Away Coupon Acceptance by Temperature (degrees)\")\n",
        "plt.xlim(0,5)\n",
        "plt.show()"
      ]
    },
    {
      "cell_type": "code",
      "source": [
        "#overall coupon acceptance characteristics\n",
        "#creationg a plot and subplot comparing accepted coupons with passenger type and accepted coupon by age, gender\n",
        "plt.figure(figsize=(12,5))\n",
        "plt.subplot(121)\n",
        "sns.histplot(data=accepted_all_coupons, x='coupon', hue='passenger', multiple='stack')\n",
        "plt.xlabel(\"Coupons Accepted by Coupon Type\")\n",
        "plt.ylabel(\"Count\")\n",
        "plt.title(\"Type of Coupon Acceptance by Passenger Characteristics\")\n",
        "plt.xlim(0,5)\n",
        "plt.xticks(rotation=45)\n",
        "plt.show()\n",
        "\n",
        "plt.figure(figsize=(12,5))\n",
        "plt.subplot(122)\n",
        "sns.histplot(data=accepted_all_coupons, x='coupon',  hue='weather', multiple='stack')\n",
        "plt.xlabel(\"Coupon Type Accepted by Drivers\")\n",
        "plt.ylabel(\"Count\")\n",
        "plt.title(\"Coupon Acceptance by Weather\")\n",
        "plt.xlim(0,5)\n",
        "plt.xticks(rotation=45)\n",
        "plt.show()"
      ],
      "metadata": {
        "colab": {
          "base_uri": "https://localhost:8080/",
          "height": 1000
        },
        "id": "xuRM-ybU4dbk",
        "outputId": "6e091083-2c90-49b8-bd7c-75bb71d3ea96"
      },
      "execution_count": 369,
      "outputs": [
        {
          "output_type": "display_data",
          "data": {
            "text/plain": [
              "<Figure size 1200x500 with 1 Axes>"
            ],
            "image/png": "[encoded data removed]"
          },
          "metadata": {}
        },
        {
          "output_type": "display_data",
          "data": {
            "text/plain": [
              "<Figure size 1200x500 with 1 Axes>"
            ],
            "image/png": "[encoded data removed]"
          },
          "metadata": {}
        }
      ]
    },
    {
      "cell_type": "markdown",
      "source": [
        "Overall, Coffee Houses had the most coupon acceptances; accepted coupons happened on sunny days by a big margin and mostly involved drivers without passengers."
      ],
      "metadata": {
        "id": "XYyDX9p0j6nH"
      }
    },
    {
      "cell_type": "code",
      "source": [
        "#what does crosstab show us about 1 day or 2 hour expiration?\n",
        "pd.crosstab(data['expiration'], data['combined_coupons'])"
      ],
      "metadata": {
        "colab": {
          "base_uri": "https://localhost:8080/",
          "height": 143
        },
        "id": "QfMU1Jx2_8iO",
        "outputId": "50fcd159-2e89-4273-f9e2-999cc9df8f67"
      },
      "execution_count": 325,
      "outputs": [
        {
          "output_type": "execute_result",
          "data": {
            "text/plain": [
              "combined_coupons     1     3\n",
              "expiration                  \n",
              "1d                3170  3758\n",
              "2h                2244  3186"
            ],
            "text/html": [
              "\n",
              "  <div id=\"df-73e73e11-5840-454e-9771-4beb44f8cd0a\" class=\"colab-df-container\">\n",
              "    <div>\n",
              "<style scoped>\n",
              "    .dataframe tbody tr th:only-of-type {\n",
              "        vertical-align: middle;\n",
              "    }\n",
              "\n",
              "    .dataframe tbody tr th {\n",
              "        vertical-align: top;\n",
              "    }\n",
              "\n",
              "    .dataframe thead th {\n",
              "        text-align: right;\n",
              "    }\n",
              "</style>\n",
              "<table border=\"1\" class=\"dataframe\">\n",
              "  <thead>\n",
              "    <tr style=\"text-align: right;\">\n",
              "      <th>combined_coupons</th>\n",
              "      <th>1</th>\n",
              "      <th>3</th>\n",
              "    </tr>\n",
              "    <tr>\n",
              "      <th>expiration</th>\n",
              "      <th></th>\n",
              "      <th></th>\n",
              "    </tr>\n",
              "  </thead>\n",
              "  <tbody>\n",
              "    <tr>\n",
              "      <th>1d</th>\n",
              "      <td>3170</td>\n",
              "      <td>3758</td>\n",
              "    </tr>\n",
              "    <tr>\n",
              "      <th>2h</th>\n",
              "      <td>2244</td>\n",
              "      <td>3186</td>\n",
              "    </tr>\n",
              "  </tbody>\n",
              "</table>\n",
              "</div>\n",
              "    <div class=\"colab-df-buttons\">\n",
              "\n",
              "  <div class=\"colab-df-container\">\n",
              "    <button class=\"colab-df-convert\" onclick=\"convertToInteractive('df-73e73e11-5840-454e-9771-4beb44f8cd0a')\"\n",
              "            title=\"Convert this dataframe to an interactive table.\"\n",
              "            style=\"display:none;\">\n",
              "\n",
              "  <svg xmlns=\"http://www.w3.org/2000/svg\" height=\"24px\" viewBox=\"0 -960 960 960\">\n",
              "    <path d=\"M120-120v-720h720v720H120Zm60-500h600v-160H180v160Zm220 220h160v-160H400v160Zm0 220h160v-160H400v160ZM180-400h160v-160H180v160Zm440 0h160v-160H620v160ZM180-180h160v-160H180v160Zm440 0h160v-160H620v160Z\"/>\n",
              "  </svg>\n",
              "    </button>\n",
              "\n",
              "  <style>\n",
              "    .colab-df-container {\n",
              "      display:flex;\n",
              "      gap: 12px;\n",
              "    }\n",
              "\n",
              "    .colab-df-convert {\n",
              "      background-color: #E8F0FE;\n",
              "      border: none;\n",
              "      border-radius: 50%;\n",
              "      cursor: pointer;\n",
              "      display: none;\n",
              "      fill: #1967D2;\n",
              "      height: 32px;\n",
              "      padding: 0 0 0 0;\n",
              "      width: 32px;\n",
              "    }\n",
              "\n",
              "    .colab-df-convert:hover {\n",
              "      background-color: #E2EBFA;\n",
              "      box-shadow: 0px 1px 2px rgba(60, 64, 67, 0.3), 0px 1px 3px 1px rgba(60, 64, 67, 0.15);\n",
              "      fill: #174EA6;\n",
              "    }\n",
              "\n",
              "    .colab-df-buttons div {\n",
              "      margin-bottom: 4px;\n",
              "    }\n",
              "\n",
              "    [theme=dark] .colab-df-convert {\n",
              "      background-color: #3B4455;\n",
              "      fill: #D2E3FC;\n",
              "    }\n",
              "\n",
              "    [theme=dark] .colab-df-convert:hover {\n",
              "      background-color: #434B5C;\n",
              "      box-shadow: 0px 1px 3px 1px rgba(0, 0, 0, 0.15);\n",
              "      filter: drop-shadow(0px 1px 2px rgba(0, 0, 0, 0.3));\n",
              "      fill: #FFFFFF;\n",
              "    }\n",
              "  </style>\n",
              "\n",
              "    <script>\n",
              "      const buttonEl =\n",
              "        document.querySelector('#df-73e73e11-5840-454e-9771-4beb44f8cd0a button.colab-df-convert');\n",
              "      buttonEl.style.display =\n",
              "        google.colab.kernel.accessAllowed ? 'block' : 'none';\n",
              "\n",
              "      async function convertToInteractive(key) {\n",
              "        const element = document.querySelector('#df-73e73e11-5840-454e-9771-4beb44f8cd0a');\n",
              "        const dataTable =\n",
              "          await google.colab.kernel.invokeFunction('convertToInteractive',\n",
              "                                                    [key], {});\n",
              "        if (!dataTable) return;\n",
              "\n",
              "        const docLinkHtml = 'Like what you see? Visit the ' +\n",
              "          '<a target=\"_blank\" href=https://colab.research.google.com/notebooks/data_table.ipynb>data table notebook</a>'\n",
              "          + ' to learn more about interactive tables.';\n",
              "        element.innerHTML = '';\n",
              "        dataTable['output_type'] = 'display_data';\n",
              "        await google.colab.output.renderOutput(dataTable, element);\n",
              "        const docLink = document.createElement('div');\n",
              "        docLink.innerHTML = docLinkHtml;\n",
              "        element.appendChild(docLink);\n",
              "      }\n",
              "    </script>\n",
              "  </div>\n",
              "\n",
              "\n",
              "<div id=\"df-1ca29ee5-da09-4ff6-a291-a951b32497eb\">\n",
              "  <button class=\"colab-df-quickchart\" onclick=\"quickchart('df-1ca29ee5-da09-4ff6-a291-a951b32497eb')\"\n",
              "            title=\"Suggest charts\"\n",
              "            style=\"display:none;\">\n",
              "\n",
              "<svg xmlns=\"http://www.w3.org/2000/svg\" height=\"24px\"viewBox=\"0 0 24 24\"\n",
              "     width=\"24px\">\n",
              "    <g>\n",
              "        <path d=\"M19 3H5c-1.1 0-2 .9-2 2v14c0 1.1.9 2 2 2h14c1.1 0 2-.9 2-2V5c0-1.1-.9-2-2-2zM9 17H7v-7h2v7zm4 0h-2V7h2v10zm4 0h-2v-4h2v4z\"/>\n",
              "    </g>\n",
              "</svg>\n",
              "  </button>\n",
              "\n",
              "<style>\n",
              "  .colab-df-quickchart {\n",
              "      --bg-color: #E8F0FE;\n",
              "      --fill-color: #1967D2;\n",
              "      --hover-bg-color: #E2EBFA;\n",
              "      --hover-fill-color: #174EA6;\n",
              "      --disabled-fill-color: #AAA;\n",
              "      --disabled-bg-color: #DDD;\n",
              "  }\n",
              "\n",
              "  [theme=dark] .colab-df-quickchart {\n",
              "      --bg-color: #3B4455;\n",
              "      --fill-color: #D2E3FC;\n",
              "      --hover-bg-color: #434B5C;\n",
              "      --hover-fill-color: #FFFFFF;\n",
              "      --disabled-bg-color: #3B4455;\n",
              "      --disabled-fill-color: #666;\n",
              "  }\n",
              "\n",
              "  .colab-df-quickchart {\n",
              "    background-color: var(--bg-color);\n",
              "    border: none;\n",
              "    border-radius: 50%;\n",
              "    cursor: pointer;\n",
              "    display: none;\n",
              "    fill: var(--fill-color);\n",
              "    height: 32px;\n",
              "    padding: 0;\n",
              "    width: 32px;\n",
              "  }\n",
              "\n",
              "  .colab-df-quickchart:hover {\n",
              "    background-color: var(--hover-bg-color);\n",
              "    box-shadow: 0 1px 2px rgba(60, 64, 67, 0.3), 0 1px 3px 1px rgba(60, 64, 67, 0.15);\n",
              "    fill: var(--button-hover-fill-color);\n",
              "  }\n",
              "\n",
              "  .colab-df-quickchart-complete:disabled,\n",
              "  .colab-df-quickchart-complete:disabled:hover {\n",
              "    background-color: var(--disabled-bg-color);\n",
              "    fill: var(--disabled-fill-color);\n",
              "    box-shadow: none;\n",
              "  }\n",
              "\n",
              "  .colab-df-spinner {\n",
              "    border: 2px solid var(--fill-color);\n",
              "    border-color: transparent;\n",
              "    border-bottom-color: var(--fill-color);\n",
              "    animation:\n",
              "      spin 1s steps(1) infinite;\n",
              "  }\n",
              "\n",
              "  @keyframes spin {\n",
              "    0% {\n",
              "      border-color: transparent;\n",
              "      border-bottom-color: var(--fill-color);\n",
              "      border-left-color: var(--fill-color);\n",
              "    }\n",
              "    20% {\n",
              "      border-color: transparent;\n",
              "      border-left-color: var(--fill-color);\n",
              "      border-top-color: var(--fill-color);\n",
              "    }\n",
              "    30% {\n",
              "      border-color: transparent;\n",
              "      border-left-color: var(--fill-color);\n",
              "      border-top-color: var(--fill-color);\n",
              "      border-right-color: var(--fill-color);\n",
              "    }\n",
              "    40% {\n",
              "      border-color: transparent;\n",
              "      border-right-color: var(--fill-color);\n",
              "      border-top-color: var(--fill-color);\n",
              "    }\n",
              "    60% {\n",
              "      border-color: transparent;\n",
              "      border-right-color: var(--fill-color);\n",
              "    }\n",
              "    80% {\n",
              "      border-color: transparent;\n",
              "      border-right-color: var(--fill-color);\n",
              "      border-bottom-color: var(--fill-color);\n",
              "    }\n",
              "    90% {\n",
              "      border-color: transparent;\n",
              "      border-bottom-color: var(--fill-color);\n",
              "    }\n",
              "  }\n",
              "</style>\n",
              "\n",
              "  <script>\n",
              "    async function quickchart(key) {\n",
              "      const quickchartButtonEl =\n",
              "        document.querySelector('#' + key + ' button');\n",
              "      quickchartButtonEl.disabled = true;  // To prevent multiple clicks.\n",
              "      quickchartButtonEl.classList.add('colab-df-spinner');\n",
              "      try {\n",
              "        const charts = await google.colab.kernel.invokeFunction(\n",
              "            'suggestCharts', [key], {});\n",
              "      } catch (error) {\n",
              "        console.error('Error during call to suggestCharts:', error);\n",
              "      }\n",
              "      quickchartButtonEl.classList.remove('colab-df-spinner');\n",
              "      quickchartButtonEl.classList.add('colab-df-quickchart-complete');\n",
              "    }\n",
              "    (() => {\n",
              "      let quickchartButtonEl =\n",
              "        document.querySelector('#df-1ca29ee5-da09-4ff6-a291-a951b32497eb button');\n",
              "      quickchartButtonEl.style.display =\n",
              "        google.colab.kernel.accessAllowed ? 'block' : 'none';\n",
              "    })();\n",
              "  </script>\n",
              "</div>\n",
              "\n",
              "    </div>\n",
              "  </div>\n"
            ],
            "application/vnd.google.colaboratory.intrinsic+json": {
              "type": "dataframe",
              "summary": "{\n  \"name\": \"pd\",\n  \"rows\": 2,\n  \"fields\": [\n    {\n      \"column\": \"expiration\",\n      \"properties\": {\n        \"dtype\": \"string\",\n        \"num_unique_values\": 2,\n        \"samples\": [\n          \"2h\",\n          \"1d\"\n        ],\n        \"semantic_type\": \"\",\n        \"description\": \"\"\n      }\n    },\n    {\n      \"column\": 1,\n      \"properties\": {\n        \"dtype\": \"number\",\n        \"std\": 654,\n        \"min\": 2244,\n        \"max\": 3170,\n        \"num_unique_values\": 2,\n        \"samples\": [\n          2244,\n          3170\n        ],\n        \"semantic_type\": \"\",\n        \"description\": \"\"\n      }\n    },\n    {\n      \"column\": 3,\n      \"properties\": {\n        \"dtype\": \"number\",\n        \"std\": 404,\n        \"min\": 3186,\n        \"max\": 3758,\n        \"num_unique_values\": 2,\n        \"samples\": [\n          3186,\n          3758\n        ],\n        \"semantic_type\": \"\",\n        \"description\": \"\"\n      }\n    }\n  ]\n}"
            }
          },
          "metadata": {},
          "execution_count": 325
        }
      ]
    },
    {
      "cell_type": "code",
      "source": [],
      "metadata": {
        "id": "nKaDugAebyMU"
      },
      "execution_count": null,
      "outputs": []
    },
    {
      "cell_type": "markdown",
      "source": [
        "The crosstab shows that a larger proportion of 2 hour expiration coupons are accepted than than the 1 day expiration even though the raw number of 1 day coupons is larger than the 2h coupons"
      ],
      "metadata": {
        "id": "ShgmI2rw_7Qu"
      }
    }
  ],
  "metadata": {
    "kernelspec": {
      "display_name": "Python 3 (ipykernel)",
      "language": "python",
      "name": "python3"
    },
    "language_info": {
      "codemirror_mode": {
        "name": "ipython",
        "version": 3
      },
      "file_extension": ".py",
      "mimetype": "text/x-python",
      "name": "python",
      "nbconvert_exporter": "python",
      "pygments_lexer": "ipython3",
      "version": "3.12.1"
    },
    "colab": {
      "provenance": []
    }
  },
  "nbformat": 4,
  "nbformat_minor": 0
}